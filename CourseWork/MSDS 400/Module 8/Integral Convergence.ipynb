{
 "cells": [
  {
   "cell_type": "markdown",
   "metadata": {},
   "source": [
    "# Integral Convergence"
   ]
  },
  {
   "cell_type": "code",
   "execution_count": 1,
   "metadata": {},
   "outputs": [],
   "source": [
    "import matplotlib.pyplot as plt\n",
    "import math\n",
    "\n",
    "# An example function:\n",
    "\n",
    "def f(x):\n",
    "    return (math.pow(x, 2) + 100) * math.log(x + 2)  # Students can supply their functions at this point.\n"
   ]
  },
  {
   "cell_type": "markdown",
   "metadata": {},
   "source": [
    "integrate() is a general numerical integration function.  It requires\n",
    "an interval [a,b] and n = the number of subintervals used for integration.\n",
    "Integrate uses a function defined as f above.  For details refer\n",
    "to Lial Section 15.3."
   ]
  },
  {
   "cell_type": "code",
   "execution_count": 2,
   "metadata": {},
   "outputs": [],
   "source": [
    "def integrate(a, b, n):\n",
    "    total = 0.0\n",
    "    delta = (b - a) / n\n",
    "    i = 0\n",
    "    while i < n:\n",
    "        total = total + delta * (f(a + delta * (i + 1)) + f(a + delta * i)) / 2.0\n",
    "        i = i + 1\n",
    "    return total\n",
    "\n",
    "# This shows list manipulations resulting in a plot\n",
    "y = []\n",
    "x = []\n",
    "b = 4.0\n",
    "a = 0.0\n",
    "rng = [10, 20, 30, 40, 50, 100, 250]"
   ]
  },
  {
   "cell_type": "markdown",
   "metadata": {},
   "source": [
    "We are going to integrate the function at specified points in range[].  The\n",
    "values in range[] will subdivide the interval [a,b] into finer subdivisions\n",
    "thus improving upon the numerical approximation of the limiting area.  The\n",
    "variables x and y are lists and the following for loop concantenates new\n",
    "elements to both x and y for plotting purposes."
   ]
  },
  {
   "cell_type": "code",
   "execution_count": 6,
   "metadata": {},
   "outputs": [
    {
     "data": {
      "image/png": "[encoded data removed]",
      "text/plain": [
       "<Figure size 432x288 with 1 Axes>"
      ]
     },
     "metadata": {
      "needs_background": "light"
     },
     "output_type": "display_data"
    }
   ],
   "source": [
    "for n in rng:\n",
    "    area = integrate(a, b, n)\n",
    "    x = x + [n]\n",
    "    y = y + [area]\n",
    "\n",
    "plt.xlim(0, max(x) + 60)\n",
    "plt.ylim(min(y) - 0.5, max(y) + 0.5)\n",
    "\n",
    "plt.plot(x, y)\n",
    "plt.scatter(x, y, s=30, c='r')\n",
    "plt.scatter(300, 64.0, c='y')  # This plots the limiting value for the area.\n",
    "\n",
    "plt.xlabel('Number of Subintervals')\n",
    "plt.ylabel('Estimated Area')\n",
    "plt.title('Plot Showing Numerical Integration Convergence')\n",
    "plt.show()\n"
   ]
  },
  {
   "cell_type": "code",
   "execution_count": 4,
   "metadata": {},
   "outputs": [
    {
     "name": "stdout",
     "output_type": "stream",
     "text": [
      "Final Estimate of Area with %r subdivisions = 250\n"
     ]
    }
   ],
   "source": [
    "area = float(format(y[-1], '0.3f'))\n",
    "print(\"Final Estimate of Area with %r subdivisions = {}\".format(x[-1], area))"
   ]
  },
  {
   "cell_type": "markdown",
   "metadata": {},
   "source": [
    "### Practice\n",
    "Exercise: Instead of using the trapazoidal rule for integration, substitute\n",
    "the midpoint rule in the function integrate() and run the rest of the code\n",
    "without modification.  Note the difference in how convergence occurs.\n",
    "Compare to the answer sheet."
   ]
  }
 ],
 "metadata": {
  "kernelspec": {
   "display_name": "Python 3",
   "language": "python",
   "name": "python3"
  },
  "language_info": {
   "codemirror_mode": {
    "name": "ipython",
    "version": 3
   },
   "file_extension": ".py",
   "mimetype": "text/x-python",
   "name": "python",
   "nbconvert_exporter": "python",
   "pygments_lexer": "ipython3",
   "version": "3.7.3"
  }
 },
 "nbformat": 4,
 "nbformat_minor": 2
}
