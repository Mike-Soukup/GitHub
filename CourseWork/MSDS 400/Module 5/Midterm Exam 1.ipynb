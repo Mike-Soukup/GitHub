{
 "cells": [
  {
   "cell_type": "markdown",
   "metadata": {},
   "source": [
    "`Problem 1`\n",
    "\n",
    "Reebok is designing a new type of Crossfit shoe, the Nano XIX. The fixed cost for the production will be \\\\$24,000. The variable cost will be \\\\$18 per pair of shoes. The shoes will sell for \\\\$120 for each pair. Graph the cost and revenue functions and determine how many pairs of sneakers will have to be sold for the company to break even on this new line of shoes."
   ]
  },
  {
   "cell_type": "markdown",
   "metadata": {},
   "source": [
    "C(x) = mx + b; b = fixed cost, m = marginal/variable cost\n",
    "\n",
    "b = \\\\$24,000\n",
    "m = \\\\$18 per pair of shoes\n",
    "\n",
    "R(x) = px; p = price per unit\n",
    "\n",
    "p = \\\\$120 per pair of shoes\n",
    "\n",
    "C(x) = 18x + 24,000\n",
    "\n",
    "R(x) = 120x\n",
    "\n",
    "Graph of C(x) and R(x) is shown below.\n",
    "\n",
    "Break even quantity of sneakers is found when `R(x) = C(x)`\n",
    "\n",
    "By this equation, the break-even quantity can be found graphically or algebraically. \n",
    "\n",
    "Via Algebra:\n",
    "\n",
    "120x = 18x +24,000\n",
    "\n",
    "102x = 24,000\n",
    "\n",
    "x = 235.294 pairs of shoes. X must be a whole number. Cannot sell fraction of a pair of shoes. Therefore, will round up to the next whole pair of shoes as the break-even quantity. \n",
    "\n",
    "`Break even quantity is 236 pairs of shoes`"
   ]
  },
  {
   "cell_type": "code",
   "execution_count": 14,
   "metadata": {},
   "outputs": [
    {
     "data": {
      "image/png": "[encoded data removed]",
      "text/plain": [
       "<Figure size 432x288 with 1 Axes>"
      ]
     },
     "metadata": {
      "needs_background": "light"
     },
     "output_type": "display_data"
    },
    {
     "name": "stdout",
     "output_type": "stream",
     "text": [
      "The break-even ordered pair is (235.3,28235.29).\n",
      "Becuase there cannot be a partial number for pairs of shoes,\n",
      "I will round up to the next whole number as the break even quantity.\n",
      "\n",
      "The company will have to sell 236 pairs of sneakers in order to break even on this new line of shoes.\n"
     ]
    }
   ],
   "source": [
    "import matplotlib.pyplot \n",
    "from matplotlib.pyplot import *\n",
    "import numpy \n",
    "from numpy import arange\n",
    "\n",
    "#Set-up Parameters\n",
    "\n",
    "x_max_lim = 500\n",
    "y_max_lim =50000\n",
    "x= arange(0,x_max_lim+0.1,0.1) #Set up x-range\n",
    "b = 24000  #fixed cost\n",
    "m = 18     #variable cost\n",
    "p = 120    #price per unit\n",
    "\n",
    "#Set-up linear functions\n",
    "\n",
    "C = (m*x)+b\n",
    "R = p*x\n",
    "P = R - C\n",
    "\n",
    "#Create Graph\n",
    "\n",
    "figure()\n",
    "xlim(0,x_max_lim) \n",
    "ylim(0,y_max_lim)\n",
    "xlabel('Pairs of shoes')  \n",
    "ylabel('Dollars $')\n",
    "hlines(0,0,x_max_lim,color='k') \n",
    "vlines(0,0,y_max_lim,color='k')\n",
    "grid(True)\n",
    "plot(x,C,'r-') #Graph cost function\n",
    "plot(x,R,'g-') #Graph revenue function\n",
    "title('Cost v. Revenue for Nano XIX Shoe')\n",
    "legend(['Cost','Revenue'])\n",
    "x = [236]\n",
    "y = [28320]\n",
    "scatter(x,y,color='b')\n",
    "show()\n",
    "\n",
    "print('The break-even ordered pair is (235.3,28235.29).')\n",
    "print('''Becuase there cannot be a partial number for pairs of shoes,\n",
    "I will round up to the next whole number as the break even quantity.''')\n",
    "print('\\nThe company will have to sell 236 pairs of sneakers in order to break even on this new line of shoes.')"
   ]
  },
  {
   "cell_type": "markdown",
   "metadata": {},
   "source": [
    "`Problem 2`\n",
    "\n",
    "Arielle invests a total of \\\\$17,500 in three products. She invests one part in a mutual fund which has an annual return of 11 percent. She invests the second part in government bonds at 7 percent per year. The third part she puts in CDs at 5 percent per year. She invests twice as much in the mutual fund as in the CDs. In the first year Arielle’s investments bring a total return of \\\\$1495. How much did she invest in each product?"
   ]
  },
  {
   "cell_type": "code",
   "execution_count": 2,
   "metadata": {},
   "outputs": [],
   "source": [
    "import numpy\n",
    "from numpy import *\n",
    "from numpy.linalg import *"
   ]
  },
  {
   "cell_type": "code",
   "execution_count": 3,
   "metadata": {},
   "outputs": [
    {
     "name": "stdout",
     "output_type": "stream",
     "text": [
      "[[9000.]\n",
      " [4000.]\n",
      " [4500.]]\n",
      "\n",
      "Arielle invested $9,000 in Mutual Funds, $4,000 in Government Bonds, and $4,500 in CDs.\n"
     ]
    }
   ],
   "source": [
    "A = matrix([[1,1,1],[0.11,0.07,0.05],[1,0,-2]]) #set up matrix from system of equations\n",
    "rhs = matrix([17500,1495,0])\n",
    "rhs = transpose(rhs) #set up right hand side of augmented matrix\n",
    "result = linalg.solve(A,rhs)\n",
    "print(result)\n",
    "print('\\nArielle invested $9,000 in Mutual Funds, $4,000 in Government Bonds, and $4,500 in CDs.')"
   ]
  },
  {
   "cell_type": "markdown",
   "metadata": {},
   "source": [
    "`Problem 3`\n",
    "\n",
    "Vandelay Industries has 252 sales reps, each to be assigned to one of four marketing teams. If the first team is to have three times as many members as the second team and the third team is to have twice as many members as the fourth team, how can the members be distributed among the teams?"
   ]
  },
  {
   "cell_type": "markdown",
   "metadata": {},
   "source": [
    "First, I defined my variables x1, x2, x3, and x4 as follows:\n",
    "\n",
    "`x1 = Number of members on team 1`\n",
    "\n",
    "`x2 = Number of members on team 2`\n",
    "\n",
    "`x3 = Number of members on team 3`\n",
    "\n",
    "`x4 = Number of members on team 4`\n",
    "\n",
    "There is not enough information to solve this system of equations outright. Therfore, using the Echelon Method, I was able to solve the system of equations in terms of x4. The coordinates for the solution are as follows:\n",
    "\n",
    "`(189 - (9/4)x4, 63 - (3/4)x4, 2x4, x4)`\n",
    "\n",
    "Next, I considered what the possible values were for all of my variables. Since the variables represent people, I first noticed that all variables must be integers greater than zero. \n",
    "\n",
    "Then, I solved for what value of x4 would lead x1 and x2 to result in zero. The value of x4 to cause x1 and x2 to be zero was found to be: `x4 = 84`.\n",
    "\n",
    "Therefore, I was able to create the table of values below for the possible distribution of sales reps among marketing teams 1, 2, 3, and 4 provided the given constraints in the problem and that `0 <= x4 <= 84`.\n"
   ]
  },
  {
   "cell_type": "code",
   "execution_count": 4,
   "metadata": {},
   "outputs": [
    {
     "name": "stdout",
     "output_type": "stream",
     "text": [
      "        x1        x2        x3        x4     Total\n",
      "       189        63         0         0       252\n",
      "       187        62         2         1       252\n",
      "       184        62         4         2       252\n",
      "       182        61         6         3       252\n",
      "       180        60         8         4       252\n",
      "       178        59        10         5       252\n",
      "       176        58        12         6       252\n",
      "       173        58        14         7       252\n",
      "       171        57        16         8       252\n",
      "       169        56        18         9       252\n",
      "       166        56        20        10       252\n",
      "       164        55        22        11       252\n",
      "       162        54        24        12       252\n",
      "       160        53        26        13       252\n",
      "       158        52        28        14       252\n",
      "       155        52        30        15       252\n",
      "       153        51        32        16       252\n",
      "       151        50        34        17       252\n",
      "       148        50        36        18       252\n",
      "       146        49        38        19       252\n",
      "       144        48        40        20       252\n",
      "       142        47        42        21       252\n",
      "       140        46        44        22       252\n",
      "       137        46        46        23       252\n",
      "       135        45        48        24       252\n",
      "       133        44        50        25       252\n",
      "       130        44        52        26       252\n",
      "       128        43        54        27       252\n",
      "       126        42        56        28       252\n",
      "       124        41        58        29       252\n",
      "       122        40        60        30       252\n",
      "       119        40        62        31       252\n",
      "       117        39        64        32       252\n",
      "       115        38        66        33       252\n",
      "       112        38        68        34       252\n",
      "       110        37        70        35       252\n",
      "       108        36        72        36       252\n",
      "       106        35        74        37       252\n",
      "       104        34        76        38       252\n",
      "       101        34        78        39       252\n",
      "        99        33        80        40       252\n",
      "        97        32        82        41       252\n",
      "        94        32        84        42       252\n",
      "        92        31        86        43       252\n",
      "        90        30        88        44       252\n",
      "        88        29        90        45       252\n",
      "        86        28        92        46       252\n",
      "        83        28        94        47       252\n",
      "        81        27        96        48       252\n",
      "        79        26        98        49       252\n",
      "        76        26       100        50       252\n",
      "        74        25       102        51       252\n",
      "        72        24       104        52       252\n",
      "        70        23       106        53       252\n",
      "        68        22       108        54       252\n",
      "        65        22       110        55       252\n",
      "        63        21       112        56       252\n",
      "        61        20       114        57       252\n",
      "        58        20       116        58       252\n",
      "        56        19       118        59       252\n",
      "        54        18       120        60       252\n",
      "        52        17       122        61       252\n",
      "        50        16       124        62       252\n",
      "        47        16       126        63       252\n",
      "        45        15       128        64       252\n",
      "        43        14       130        65       252\n",
      "        40        14       132        66       252\n",
      "        38        13       134        67       252\n",
      "        36        12       136        68       252\n",
      "        34        11       138        69       252\n",
      "        32        10       140        70       252\n",
      "        29        10       142        71       252\n",
      "        27         9       144        72       252\n",
      "        25         8       146        73       252\n",
      "        22         8       148        74       252\n",
      "        20         7       150        75       252\n",
      "        18         6       152        76       252\n",
      "        16         5       154        77       252\n",
      "        14         4       156        78       252\n",
      "        11         4       158        79       252\n",
      "         9         3       160        80       252\n",
      "         7         2       162        81       252\n",
      "         4         2       164        82       252\n",
      "         2         1       166        83       252\n",
      "         0         0       168        84       252\n"
     ]
    }
   ],
   "source": [
    "print('{:>10}{:>10}{:>10}{:>10}{:>10}'.format('x1','x2','x3','x4','Total'))\n",
    "\n",
    "for i in range(0,85,1):\n",
    "    x4 = i\n",
    "    x3 = 2*x4\n",
    "    x2 = 63-((3/4)*x4)\n",
    "    x1 = 189-((9/4)*x4)\n",
    "    total = x1 + x2 + x3 + x4\n",
    "    print('{:10.0f}{:10.0f}{:10.0f}{:10.0f}{:10.0f}'.format(x1,x2,x3,x4,total))\n",
    "    "
   ]
  },
  {
   "cell_type": "markdown",
   "metadata": {},
   "source": [
    "`Problem 4`\n",
    "\n",
    "Phil’s Candy makes three types of artisanal chocolate bars: cherry, almond, and raisin. Matrix A gives the amount of ingredients in one batch. Matrix B gives the costs of ingredients from suppliers J and K. Calculate the cost of 100 batches of each candy using ingredients from supplier K.\n",
    " "
   ]
  },
  {
   "cell_type": "markdown",
   "metadata": {},
   "source": [
    "Multiplying matrices A & B by A*B results in matrix C which holds data indicating the cost per batch for each artisanal chocolate bar. Then using scalar multiplication, D = 100xC, where D tells the cost of 100 batches of each candy per supplier. Supplier J cost information is in row 1 while supplier K cost information is in row 2. "
   ]
  },
  {
   "cell_type": "code",
   "execution_count": 5,
   "metadata": {},
   "outputs": [
    {
     "name": "stdout",
     "output_type": "stream",
     "text": [
      "Matrix C \n",
      " [[58 60]\n",
      " [42 40]\n",
      " [50 52]]\n",
      "\n",
      "Matrix D\n",
      " [[5800 6000]\n",
      " [4200 4000]\n",
      " [5000 5200]]\n"
     ]
    }
   ],
   "source": [
    "import numpy\n",
    "from numpy import *\n",
    "\n",
    "A = matrix([[6,8,1],[6,4,1],[5,7,1]])\n",
    "B = matrix([[4,3],[4,5],[2,2]])\n",
    "C = A*B\n",
    "print('Matrix C \\n', C)\n",
    "D = 100*C\n",
    "print('\\nMatrix D\\n', D)"
   ]
  },
  {
   "cell_type": "markdown",
   "metadata": {},
   "source": [
    "Therefore, we can conclude that the cost of 100 batches of each candy bar using supplier K is 6,000 , 4,000 , and 5,200 units of currency for cherry, almond, and raisin artisanal chocolate bars, respectively."
   ]
  },
  {
   "cell_type": "markdown",
   "metadata": {},
   "source": [
    "`Problem 5`\n",
    "\n",
    "Welsh-Ryan Arena seats 15,000 people. Courtside seats cost 8 dollars, first level seats cost 6 dollars, and upper deck seats cost 4 dollars. The total revenue for a sellout is 76,000 dollars. If half the courtside seats, half the upper deck seats, and all the first level seats are sold, then the total revenue is 44,000 dollars. How many of each type of seat are there?"
   ]
  },
  {
   "cell_type": "code",
   "execution_count": 6,
   "metadata": {},
   "outputs": [],
   "source": [
    "import numpy\n",
    "from numpy import *\n",
    "from numpy.linalg import *"
   ]
  },
  {
   "cell_type": "code",
   "execution_count": 7,
   "metadata": {},
   "outputs": [
    {
     "data": {
      "text/plain": [
       "matrix([[ 3000.],\n",
       "        [ 2000.],\n",
       "        [10000.]])"
      ]
     },
     "execution_count": 7,
     "metadata": {},
     "output_type": "execute_result"
    }
   ],
   "source": [
    "A = matrix([[1,1,1],[8,6,4],[4,6,2]])\n",
    "rhs = matrix([15000,76000,44000])\n",
    "rhs = transpose(rhs)\n",
    "result = linalg.solve(A,rhs)\n",
    "result"
   ]
  },
  {
   "cell_type": "markdown",
   "metadata": {},
   "source": [
    "Based on the code above, the conclusion is that there are 3,000 courtside seats, 2,000 first level seats, and 10,000 upper deck seats in Welsh-Ryan Arena.\n"
   ]
  },
  {
   "cell_type": "markdown",
   "metadata": {},
   "source": [
    "`Problem 6`\n",
    "\n",
    "Due to new environmental restrictions, Hoch Industries must use a new process to reduce pollution. The old process emits 6 g of Sulphur and 3 g of lead per liter of chemical made. The new process emits 2 g of Sulphur and 4 g of lead per liter of chemical made. The company makes a profit of 25¢ per liter under the old process and 16¢ per liter under the new process. No more than 18,000 g of Sulphur and no more than 12,000 g of lead can be emitted daily. How many liters of chemicals should be made daily under each process to maximize profits? What is the maximum profit?"
   ]
  },
  {
   "cell_type": "code",
   "execution_count": 8,
   "metadata": {},
   "outputs": [
    {
     "data": {
      "image/png": "[encoded data removed]",
      "text/plain": [
       "<Figure size 432x288 with 1 Axes>"
      ]
     },
     "metadata": {
      "needs_background": "light"
     },
     "output_type": "display_data"
    }
   ],
   "source": [
    "import matplotlib.pyplot \n",
    "from matplotlib.pyplot import *\n",
    "import numpy \n",
    "from numpy import arange\n",
    "\n",
    "#Set up parameters and lines\n",
    "\n",
    "x_max_lim = 5000\n",
    "y_max_lim =10000\n",
    "x= arange(0,x_max_lim+0.1,.1)\n",
    "z = 800                      #Units are in dollars, Objective Function value to check corner points of feasible region\n",
    "\n",
    "#Set up linear equations for the inequalities\n",
    "\n",
    "y1 = -3*x + 9000             #Sulfur inequality\n",
    "y2 = (-3/4)*x + 3000         #Lead inequality\n",
    "y3 = (-0.25/0.16)*x +(z/0.16)\n",
    "\n",
    "figure()\n",
    "xlim(0,x_max_lim)\n",
    "ylim(0,y_max_lim)\n",
    "hlines(0,0,x_max_lim,color='k')        # x-axis\n",
    "vlines(0,0,y_max_lim,color='k')        # y-axis\n",
    "grid(True)\n",
    "\n",
    "xlabel('x-axis')\n",
    "ylabel('y-axis')\n",
    "title ('Hoch Industries New Process vs. Old Process')\n",
    "\n",
    "plot(x,y1,'b')              #Sulfur inequality \n",
    "plot(x,y2,'r')              #Lead inequality\n",
    "plot(x,y3,'k--')            #Objective Function Test Line\n",
    "\n",
    "legend(['y1 <= -3x + 9000','y2 <= (-3/4)x + 3000','Profit test line'])\n",
    "\n",
    "x = [0,0,(8000/3),3000]\n",
    "y = [0,3000,1000,0]\n",
    "fill(x,y)\n",
    "\n",
    "show()"
   ]
  },
  {
   "cell_type": "markdown",
   "metadata": {},
   "source": [
    "Graphing the feasible region indicates that the corner point (8000/3 , 1000) is where the profit is maximized. This is consistent with Hoch Inudstries making 8000/3, or 2,666.67, liters of chemical via the old process and 1,000 liters of chemical via the new process. This will result in the maximum profit of 826.67 dollars."
   ]
  },
  {
   "cell_type": "code",
   "execution_count": 15,
   "metadata": {},
   "outputs": [
    {
     "name": "stdout",
     "output_type": "stream",
     "text": [
      "Pulp solutions for liters of old process and liters of new process are: \n",
      "Liters of old process: 2666.67\n",
      "Liters of new process: 1000.0\n",
      "The maximum profit is: $ 826.67\n"
     ]
    }
   ],
   "source": [
    "from pulp import LpVariable, LpProblem, LpMaximize, LpStatus, value, LpMinimize\n",
    "\n",
    "# declare your variables\n",
    "x1 = LpVariable(\"x1\", 0, None) # x1>=0\n",
    "x2 = LpVariable(\"x2\", 0, None) # x2>=0\n",
    "\n",
    "# defines the problem\n",
    "prob = LpProblem(\"problem\", LpMaximize)\n",
    "\n",
    "# defines the constraints\n",
    "prob += 6*x1 + 2*x2 <= 18000\n",
    "prob += 3*x1 + 4*x2 <= 12000\n",
    "\n",
    "# defines the objective function to maximize\n",
    "prob += 0.25*x1 + 0.16*x2\n",
    "\n",
    "# solve the problem\n",
    "status = prob.solve()\n",
    "LpStatus[status]\n",
    "\n",
    "#Calculate value of objective function\n",
    "\n",
    "OF = 0.25*value(x1) + 0.16*value(x2)\n",
    "\n",
    "# print the results\n",
    "print(\"Pulp solutions for liters of old process and liters of new process are: \")\n",
    "print('Liters of old process:', round(value(x1),2))\n",
    "print('Liters of new process:', value(x2))\n",
    "print('The maximum profit is: $',round(OF,2))"
   ]
  },
  {
   "cell_type": "markdown",
   "metadata": {},
   "source": [
    "`Problem 7`\n",
    "\n",
    "Northwestern is looking to hire teachers and TA’s to fill its staffing needs for its summer program at minimum cost. The average monthly salary of a teacher is 2400 dollars and the average monthly salary of a TA is 1100 dollars. The program can accommodate up to 45 staff members and needs at least 30 to run properly. They must have at least 10 TA’s and may have up to 3 TA’s for every 2 teachers. How many teachers and TA’s the should the program hire to minimize costs. What is the minimum cost?"
   ]
  },
  {
   "cell_type": "code",
   "execution_count": 10,
   "metadata": {},
   "outputs": [
    {
     "data": {
      "image/png": "[encoded data removed]",
      "text/plain": [
       "<Figure size 432x288 with 1 Axes>"
      ]
     },
     "metadata": {
      "needs_background": "light"
     },
     "output_type": "display_data"
    }
   ],
   "source": [
    "import matplotlib.pyplot \n",
    "from matplotlib.pyplot import *\n",
    "import numpy \n",
    "from numpy import arange\n",
    "\n",
    "#Set up parameters and lines\n",
    "\n",
    "x_max_lim = 50\n",
    "y_max_lim =50\n",
    "x= arange(0,x_max_lim+0.1,.1)\n",
    "w = 55000                       #Cost of staff; units are in dollars                      \n",
    "\n",
    "#Set up linear equations for the inequalities\n",
    "\n",
    "y1 = -x + 45                 #Max total staff members\n",
    "y2 = -x + 30                 #Min total staff members\n",
    "y3 = (3/2)*x                 #Ratio of TA's to teachers\n",
    "y4 = (-24/11)*x +(w/1100)\n",
    "\n",
    "figure()\n",
    "xlim(0,x_max_lim)\n",
    "ylim(0,y_max_lim)\n",
    "hlines(0,0,x_max_lim,color='k')        # x-axis\n",
    "vlines(0,0,y_max_lim,color='k')        # y-axis\n",
    "hlines(10,0,x_max_lim,color='r')       # Minimum number of TA's allowed\n",
    "grid(True)\n",
    "\n",
    "xlabel('# Teachers')\n",
    "ylabel('# TAs')\n",
    "title ('Feasible region for Teachers and TAs')\n",
    "\n",
    "plot(x,y1,'b')              #Max total staff members\n",
    "plot(x,y2,'r')              #Min total staff members\n",
    "plot(x,y3,'k')              #Ratio of TA:teacher\n",
    "plot(x,y4,'g--')            #Test Objective Function\n",
    "\n",
    "legend(['y1 <= -x + 45','y2 >= -x + 30','y4 <= (3/2)x','Cost'])\n",
    "\n",
    "x = [12,18,35,20]\n",
    "y = [18,27,10,10]\n",
    "fill(x,y)\n",
    "\n",
    "show()"
   ]
  },
  {
   "cell_type": "markdown",
   "metadata": {},
   "source": [
    "After graphing the feasible region for the problem at hand, the Corner Point Theorem is utilized. The corner points were tested and evaluated by examining the movement in a Cost test line. This revealed the corner point (12,18) as the minimun solution. This solution indicates that Northwestern should hire 12 teachers and 18 TAs at a minimum summer program cost of $48,600 per month."
   ]
  },
  {
   "cell_type": "code",
   "execution_count": 11,
   "metadata": {},
   "outputs": [
    {
     "name": "stdout",
     "output_type": "stream",
     "text": [
      "Pulp solutions for numbers of teachers and TAs needed for the summer program are: \n",
      "Teachers:  12.0\n",
      "TAs:  18.0\n",
      "The minimum program cost: $ 48600.0\n"
     ]
    }
   ],
   "source": [
    "from pulp import LpVariable, LpProblem, LpMaximize, LpStatus, value, LpMinimize\n",
    "\n",
    "# declare your variables\n",
    "y1 = LpVariable(\"y1\", 0, None) # y1>=0\n",
    "y2 = LpVariable(\"y2\", 0, None) # y2>=0\n",
    "\n",
    "# defines the problem\n",
    "prob = LpProblem(\"problem\", LpMinimize)\n",
    "\n",
    "# defines the constraints\n",
    "prob += y1 + y2 <= 45\n",
    "prob += y1 + y2 >= 30\n",
    "prob += y2 >= 10\n",
    "prob += y2 - y1*(3/2) <= 0\n",
    "\n",
    "# defines the objective function to optimize\n",
    "prob += 2400*y1 + 1100*y2\n",
    "\n",
    "# solve the problem\n",
    "status = prob.solve()\n",
    "LpStatus[status]\n",
    "\n",
    "#Calculate value of objective function\n",
    "\n",
    "OF = 2400*value(y1) + 1100*value(y2)\n",
    "\n",
    "# print the results\n",
    "print(\"Pulp solutions for numbers of teachers and TAs needed for the summer program are: \")\n",
    "print('Teachers: ', value(y1))\n",
    "print('TAs: ', value(y2))\n",
    "print('The minimum program cost: $',round(OF,2))"
   ]
  },
  {
   "cell_type": "markdown",
   "metadata": {},
   "source": [
    "`Problem 8`\n",
    "\n",
    "To be at his best as an athlete, Roger needs at least 10 units of vitamin A, 12 units of vitamin B, and 20 units of vitamin C per day. Pill #1 contains 4 units of A and 3 of B. Pill #2 contains 1 unit of A, 2 of B, and 4 of C. Pill #3 contains 10 units of A, 1 of B, and 5 of C. Pill #1 costs 6 cents, pill #2 costs 8 cents, and pill #3 costs 1 cent. How many of each pill must Roger take to minimize his cost, and what is that cost?"
   ]
  },
  {
   "cell_type": "code",
   "execution_count": 17,
   "metadata": {},
   "outputs": [
    {
     "name": "stdout",
     "output_type": "stream",
     "text": [
      "Pulp solution for the quantity of each pill Roger must take is: \n",
      "# of Pill #1:  0.0\n",
      "# of Pill #2:  0.0\n",
      "# of Pill #3:  12.0\n",
      "Minimized Cost: Cents 12.0\n"
     ]
    }
   ],
   "source": [
    "from pulp import LpVariable, LpProblem, LpMaximize, LpStatus, value, LpMinimize\n",
    "\n",
    "# declare your variables\n",
    "y1 = LpVariable(\"y1\", 0, None) # y1>=0\n",
    "y2 = LpVariable(\"y2\", 0, None) # y2>=0\n",
    "y3 = LpVariable(\"y3\", 0, None) # y3>=0\n",
    "\n",
    "# defines the problem\n",
    "prob = LpProblem(\"problem\", LpMinimize)\n",
    "\n",
    "# defines the constraints\n",
    "prob += 4*y1 + y2 + 10*y3 >= 10\n",
    "prob += 3*y1 + 2*y2 + y3 >= 12\n",
    "prob += 4*y2 + 5*y3 >= 20\n",
    "\n",
    "# defines the objective function to optimize\n",
    "prob += 6*y1 + 8*y2 + y3\n",
    "\n",
    "# solve the problem\n",
    "status = prob.solve()\n",
    "LpStatus[status]\n",
    "\n",
    "#Calculate value of objective function\n",
    "\n",
    "OF = 6*value(y1) + 8*value(y2) + value(y3)\n",
    "\n",
    "# print the results\n",
    "print(\"Pulp solution for the quantity of each pill Roger must take is: \")\n",
    "print('# of Pill #1: ', value(y1))\n",
    "print('# of Pill #2: ', value(y2))\n",
    "print('# of Pill #3: ', value(y3))\n",
    "print('Minimized Cost: Cents',round(OF,2))"
   ]
  },
  {
   "cell_type": "markdown",
   "metadata": {},
   "source": [
    "`Problem 9`\n",
    "\n",
    "Better Buy stocks Blu-ray DVD players, surround sound systems, and Smart TVs. They have limited storage space and can stock a maximum of 210 of these three machines. They know from past experience that they should stock twice as many DVD players as stereo systems and at least 30 TVs. If each DVD player sells for 450 dollars, each surround sound system sells for 2000 dollars, and each TV sells for 750 dollars, how many of each should be stocked and sold for maximum revenues? What is the maximum revenue?"
   ]
  },
  {
   "cell_type": "code",
   "execution_count": 13,
   "metadata": {},
   "outputs": [
    {
     "name": "stdout",
     "output_type": "stream",
     "text": [
      "Pulp solution for stock quantities of DVD players, surround sound systems, and Smart TVs at Better Buy: \n",
      "Blu-ray DVD players:  120.0\n",
      "Surround Sound Systems:  60.0\n",
      "Smart TVs:  30.0\n",
      "Maximum Revenue: $ 196500.0\n"
     ]
    }
   ],
   "source": [
    "from pulp import LpVariable, LpProblem, LpMaximize, LpStatus, value, LpMinimize\n",
    "\n",
    "# declare your variables\n",
    "x1 = LpVariable(\"x1\", 0, None) # x1>=0\n",
    "x2 = LpVariable(\"x2\", 0, None) # x2>=0\n",
    "x3 = LpVariable(\"x3\", 0, None) # x3>=0\n",
    "\n",
    "# defines the problem\n",
    "prob = LpProblem(\"problem\", LpMaximize)\n",
    "\n",
    "# defines the constraints\n",
    "prob += x1 + x2 + x3 <= 210\n",
    "prob += x1 - 2*x2 >= 0\n",
    "prob += x3 >= 30\n",
    "\n",
    "# defines the objective function to optimize\n",
    "prob += 450*x1 + 2000*x2 + 750*x3\n",
    "\n",
    "# solve the problem\n",
    "status = prob.solve()\n",
    "LpStatus[status]\n",
    "\n",
    "#Calculate value of objective function\n",
    "\n",
    "OF = 450*value(x1) + 2000*value(x2) + 750*value(x3)\n",
    "\n",
    "# print the results\n",
    "print(\"Pulp solution for stock quantities of DVD players, surround sound systems, and Smart TVs at Better Buy: \")\n",
    "print('Blu-ray DVD players: ', value(x1))\n",
    "print('Surround Sound Systems: ', value(x2))\n",
    "print('Smart TVs: ', value(x3))\n",
    "print('Maximum Revenue: $',round(OF,2))"
   ]
  },
  {
   "cell_type": "markdown",
   "metadata": {},
   "source": [
    "`Problem 10`\n",
    "\n",
    "McDowell’s is conducting a sweepstakes, and ships two boxes of game pieces to a particular franchise. Box A has 4% of its contents being winners, while 5% of the contents of box B are winners. Box A contains 27% of the total tickets. The contents of both boxes are mixed in a drawer and a ticket is chosen at random. Find the probability it came from box A if it is a winner."
   ]
  },
  {
   "cell_type": "code",
   "execution_count": null,
   "metadata": {},
   "outputs": [],
   "source": []
  }
 ],
 "metadata": {
  "kernelspec": {
   "display_name": "Python 3",
   "language": "python",
   "name": "python3"
  },
  "language_info": {
   "codemirror_mode": {
    "name": "ipython",
    "version": 3
   },
   "file_extension": ".py",
   "mimetype": "text/x-python",
   "name": "python",
   "nbconvert_exporter": "python",
   "pygments_lexer": "ipython3",
   "version": "3.7.3"
  }
 },
 "nbformat": 4,
 "nbformat_minor": 2
}
