{
 "cells": [
  {
   "cell_type": "code",
   "execution_count": 1,
   "metadata": {},
   "outputs": [],
   "source": [
    "import numpy\n",
    "from numpy import *\n",
    "from numpy.linalg import *"
   ]
  },
  {
   "cell_type": "code",
   "execution_count": 15,
   "metadata": {},
   "outputs": [
    {
     "name": "stdout",
     "output_type": "stream",
     "text": [
      "\n",
      "Right Hand Side of Equation\n",
      "[[96]\n",
      " [87]\n",
      " [74]]\n",
      "\n",
      "Matrix A\n",
      "[[1 3 4]\n",
      " [2 1 3]\n",
      " [4 2 1]]\n"
     ]
    },
    {
     "data": {
      "text/plain": [
       "numpy.matrix"
      ]
     },
     "execution_count": 15,
     "metadata": {},
     "output_type": "execute_result"
    }
   ],
   "source": [
    "rhs = [96, 87, 74]\n",
    "rhs = matrix(rhs) #3x1 matrix\n",
    "type(rhs) #The matrix object is housed within the numpy module\n",
    "rhs = transpose(rhs)#transpose to a 1x3 matrix\n",
    "print('\\nRight Hand Side of Equation')\n",
    "print(rhs)\n",
    "A = [[1,3,4],[2,1,3],[4,2,1]]\n",
    "A\n",
    "type(A) #here, A is only a list of lists!\n",
    "A = matrix(A)\n",
    "print('\\nMatrix A')\n",
    "print(A)\n",
    "type(A)"
   ]
  },
  {
   "cell_type": "code",
   "execution_count": 17,
   "metadata": {},
   "outputs": [
    {
     "data": {
      "text/plain": [
       "matrix([[ 1.00000000e+00, -5.55111512e-17,  5.55111512e-17],\n",
       "        [-1.11022302e-16,  1.00000000e+00, -1.66533454e-16],\n",
       "        [ 0.00000000e+00,  0.00000000e+00,  1.00000000e+00]])"
      ]
     },
     "execution_count": 17,
     "metadata": {},
     "output_type": "execute_result"
    }
   ],
   "source": [
    "IA = inv(A)\n",
    "IA\n",
    "IA*A"
   ]
  },
  {
   "cell_type": "code",
   "execution_count": 22,
   "metadata": {},
   "outputs": [
    {
     "data": {
      "text/plain": [
       "matrix([[1, 0, 0],\n",
       "        [0, 1, 0],\n",
       "        [0, 0, 1]])"
      ]
     },
     "execution_count": 22,
     "metadata": {},
     "output_type": "execute_result"
    }
   ],
   "source": [
    "I = dot(IA,A)\n",
    "I = int_(I)#int_ converts floating point to integers for matrices int() is used for scalars.\n",
    "I"
   ]
  },
  {
   "cell_type": "code",
   "execution_count": 28,
   "metadata": {},
   "outputs": [
    {
     "data": {
      "text/plain": [
       "matrix([[12],\n",
       "        [ 0],\n",
       "        [20]])"
      ]
     },
     "execution_count": 28,
     "metadata": {},
     "output_type": "execute_result"
    }
   ],
   "source": [
    "result = dot(IA,rhs)\n",
    "result = int_(result)\n",
    "result"
   ]
  },
  {
   "cell_type": "code",
   "execution_count": 29,
   "metadata": {},
   "outputs": [
    {
     "data": {
      "text/plain": [
       "matrix([[13],\n",
       "        [ 1],\n",
       "        [20]])"
      ]
     },
     "execution_count": 29,
     "metadata": {},
     "output_type": "execute_result"
    }
   ],
   "source": [
    "result2 = linalg.solve(A,rhs)\n",
    "int_(result2)"
   ]
  },
  {
   "cell_type": "code",
   "execution_count": 42,
   "metadata": {},
   "outputs": [
    {
     "data": {
      "text/plain": [
       "array([[-2.25179981e+15, -2.25179981e+15,  4.50359963e+15],\n",
       "       [ 4.50359963e+15,  4.50359963e+15, -9.00719925e+15],\n",
       "       [-2.25179981e+15, -2.25179981e+15,  4.50359963e+15]])"
      ]
     },
     "execution_count": 42,
     "metadata": {},
     "output_type": "execute_result"
    }
   ],
   "source": [
    "A = [[1,2,3],[-3,-2,-1],[-1,0,1]]\n",
    "A = array(A)\n",
    "IA = inv(A)\n"
   ]
  },
  {
   "cell_type": "code",
   "execution_count": 43,
   "metadata": {},
   "outputs": [
    {
     "data": {
      "text/plain": [
       "matrix([[1],\n",
       "        [2],\n",
       "        [0]])"
      ]
     },
     "execution_count": 43,
     "metadata": {},
     "output_type": "execute_result"
    }
   ],
   "source": [
    "B = [[1,-1,5],[3,3,-1],[1,3,2]]\n",
    "B = matrix(B)\n",
    "rhs = [-6,10,5]\n",
    "rhs = matrix(rhs)\n",
    "rhs = transpose(rhs)\n",
    "answer = linalg.solve(B,rhs)\n",
    "answer = int_(answer)\n",
    "answer"
   ]
  },
  {
   "cell_type": "code",
   "execution_count": null,
   "metadata": {},
   "outputs": [],
   "source": []
  }
 ],
 "metadata": {
  "kernelspec": {
   "display_name": "Python 3",
   "language": "python",
   "name": "python3"
  },
  "language_info": {
   "codemirror_mode": {
    "name": "ipython",
    "version": 3
   },
   "file_extension": ".py",
   "mimetype": "text/x-python",
   "name": "python",
   "nbconvert_exporter": "python",
   "pygments_lexer": "ipython3",
   "version": "3.7.3"
  }
 },
 "nbformat": 4,
 "nbformat_minor": 2
}
