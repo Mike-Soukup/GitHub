{
 "cells": [
  {
   "cell_type": "code",
   "execution_count": 1,
   "metadata": {},
   "outputs": [],
   "source": [
    "import numpy\n",
    "from numpy import array, absolute"
   ]
  },
  {
   "cell_type": "code",
   "execution_count": 2,
   "metadata": {},
   "outputs": [
    {
     "data": {
      "text/plain": [
       "list"
      ]
     },
     "execution_count": 2,
     "metadata": {},
     "output_type": "execute_result"
    }
   ],
   "source": [
    "t = [1,2,3]\n",
    "type(t)"
   ]
  },
  {
   "cell_type": "code",
   "execution_count": 3,
   "metadata": {},
   "outputs": [
    {
     "name": "stdout",
     "output_type": "stream",
     "text": [
      "\n",
      "Value af first location 1\n",
      "\n",
      "Value at third location 3\n",
      "\n",
      "Value at second location, 1th, using negative index 2\n"
     ]
    }
   ],
   "source": [
    "print('\\nValue af first location',t[0])\n",
    "print('\\nValue at third location',t[2])\n",
    "print('\\nValue at second location, 1th, using negative index',t[-2])"
   ]
  },
  {
   "cell_type": "code",
   "execution_count": 13,
   "metadata": {},
   "outputs": [
    {
     "name": "stdout",
     "output_type": "stream",
     "text": [
      "Comparison of a concatenated liste with an array\n",
      "r = [4, 5, 6]\n",
      "t = [1, 2, 3]\n",
      "Concatentation example using t and r lists. [1, 2, 3, 4, 5, 6]\n",
      "\n",
      "Comparison of concatentaion with array([t,r]).\n",
      "[[1 2 3]\n",
      " [4 5 6]]\n",
      "\n",
      "The second element of the preceding list and array.\n",
      "2\n",
      "[4 5 6]\n"
     ]
    }
   ],
   "source": [
    "print('Comparison of a concatenated liste with an array')\n",
    "r = [4,5,6]\n",
    "print('r =',r)\n",
    "print('t =',t)\n",
    "result1 = t + r\n",
    "print('Concatentation example using t and r lists.',result1)\n",
    "result2 = array([t,r])\n",
    "print('\\nComparison of concatentaion with array([t,r]).')\n",
    "print(result2)\n",
    "# Note the different results produced by indexing for a list and an array.\n",
    "print('\\nThe second element of the preceding list and array.')\n",
    "print(result1[1])\n",
    "print(result2[1])"
   ]
  },
  {
   "cell_type": "code",
   "execution_count": 18,
   "metadata": {},
   "outputs": [
    {
     "name": "stdout",
     "output_type": "stream",
     "text": [
      "\n",
      "Slicing to produce an element, a column and a row of the array\n",
      "2\n",
      "[2 5]\n",
      "[4 5 6]\n"
     ]
    }
   ],
   "source": [
    "print('\\nSlicing to produce an element, a column and a row of the array')\n",
    "print(result2[0,1])\n",
    "print(result2[:,1]) #takes a column out of the array = every row, column 1\n",
    "print(result2[1,:]) #takes a row out of the array"
   ]
  },
  {
   "cell_type": "code",
   "execution_count": 30,
   "metadata": {},
   "outputs": [
    {
     "name": "stdout",
     "output_type": "stream",
     "text": [
      "\n",
      "Example of Matrix Addition in Lial on page 77.\n",
      "\n",
      "Arrays are in order: m , n and m+n\n",
      "[[10 12  5]\n",
      " [15 20  8]]\n",
      "[[45 35 20]\n",
      " [65 40 35]]\n",
      "[[55 47 25]\n",
      " [80 60 43]]\n",
      "\n",
      "Subtraction of N from M equals P\n",
      "[[-35 -23 -15]\n",
      " [-50 -20 -27]]\n",
      "\n",
      "Multiplication of Q by a scalar -2.0\n",
      "[[-110.  -94.  -50.]\n",
      " [-160. -120.  -86.]]\n",
      "\n",
      "Functions can be applied to an array such as absolute value\n",
      "[[110.  94.  50.]\n",
      " [160. 120.  86.]]\n"
     ]
    }
   ],
   "source": [
    "print('\\nExample of Matrix Addition in Lial on page 77.')\n",
    "M = array([[10,12,5],[15,20,8]])\n",
    "N = array([[45,35,20],[65,40,35]])\n",
    "Q = M+N\n",
    "print('\\nArrays are in order: m , n and m+n')\n",
    "print(M)\n",
    "print(N)\n",
    "print(Q)\n",
    "print('\\nSubtraction of N from M equals P')\n",
    "P = M-N\n",
    "print(P)\n",
    "s = -2.0\n",
    "print('\\nMultiplication of Q by a scalar',s)\n",
    "SQ = s*Q\n",
    "print(SQ)\n",
    "print('\\nFunctions can be applied to an array such as absolute value')\n",
    "A = absolute(SQ)\n",
    "print(A)"
   ]
  },
  {
   "cell_type": "code",
   "execution_count": null,
   "metadata": {},
   "outputs": [],
   "source": []
  }
 ],
 "metadata": {
  "kernelspec": {
   "display_name": "Python 3",
   "language": "python",
   "name": "python3"
  },
  "language_info": {
   "codemirror_mode": {
    "name": "ipython",
    "version": 3
   },
   "file_extension": ".py",
   "mimetype": "text/x-python",
   "name": "python",
   "nbconvert_exporter": "python",
   "pygments_lexer": "ipython3",
   "version": "3.7.3"
  }
 },
 "nbformat": 4,
 "nbformat_minor": 2
}
