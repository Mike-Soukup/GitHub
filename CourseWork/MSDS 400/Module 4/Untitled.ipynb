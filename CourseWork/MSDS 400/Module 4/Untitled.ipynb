{
 "cells": [
  {
   "cell_type": "code",
   "execution_count": 4,
   "metadata": {},
   "outputs": [],
   "source": [
    "U = {1,2,3,4,5,6,7,8,9,10,11}\n",
    "A = {1,2,4,5,7}\n",
    "B = {2,4,5,7,9,11}"
   ]
  },
  {
   "cell_type": "code",
   "execution_count": 6,
   "metadata": {},
   "outputs": [
    {
     "name": "stdout",
     "output_type": "stream",
     "text": [
      "Union of A and B =  {1, 2, 4, 5, 7, 9, 11}\n"
     ]
    }
   ],
   "source": [
    "Uab = A | B # | is the Union operator 'U'\n",
    "print('Union of A and B = ', Uab) "
   ]
  },
  {
   "cell_type": "code",
   "execution_count": 7,
   "metadata": {},
   "outputs": [
    {
     "name": "stdout",
     "output_type": "stream",
     "text": [
      "Intersection of A and B =  {2, 4, 5, 7}\n"
     ]
    }
   ],
   "source": [
    "AB = A & B\n",
    "print('Intersection of A and B = ', AB)"
   ]
  },
  {
   "cell_type": "code",
   "execution_count": 9,
   "metadata": {},
   "outputs": [
    {
     "name": "stdout",
     "output_type": "stream",
     "text": [
      "A complement = {3, 6, 8, 9, 10, 11}\n",
      "B complement = {1, 3, 6, 8, 10}\n"
     ]
    }
   ],
   "source": [
    "Ac = U - A\n",
    "Bc = U - B\n",
    "print('A complement =', Ac)\n",
    "print('B complement =', Bc)\n",
    "#Complements are the Universal set minus the given set!!\n"
   ]
  },
  {
   "cell_type": "code",
   "execution_count": 10,
   "metadata": {},
   "outputs": [
    {
     "name": "stdout",
     "output_type": "stream",
     "text": [
      "Symetric difference of A & B =  {1, 9, 11}\n"
     ]
    }
   ],
   "source": [
    "AsB = A ^ B \n",
    "print('Symetric difference of A & B = ',AsB) #Symmetric difference are elements in A and B but not common to either. "
   ]
  },
  {
   "cell_type": "code",
   "execution_count": 12,
   "metadata": {},
   "outputs": [
    {
     "name": "stdout",
     "output_type": "stream",
     "text": [
      "Symmetric difference by union and intersection = {1, 11, 9}\n"
     ]
    }
   ],
   "source": [
    "SD = (A|B)-(A&B)\n",
    "print('Symmetric difference by union and intersection =', SD)\n",
    "#Can use union and intersection or ^ to find symmetric difference."
   ]
  },
  {
   "cell_type": "code",
   "execution_count": 13,
   "metadata": {},
   "outputs": [
    {
     "name": "stdout",
     "output_type": "stream",
     "text": [
      "Union of Ac, Bc, and AB  {1, 2, 3, 4, 5, 6, 7, 8, 9, 10, 11}\n",
      "Original set U was  {1, 2, 3, 4, 5, 6, 7, 8, 9, 10, 11}\n"
     ]
    }
   ],
   "source": [
    "R = Ac|Bc|AB #Union of several sets\n",
    "print('Union of Ac, Bc, and AB ', R)\n",
    "print('Original set U was ', U)\n"
   ]
  },
  {
   "cell_type": "code",
   "execution_count": 14,
   "metadata": {},
   "outputs": [
    {
     "name": "stdout",
     "output_type": "stream",
     "text": [
      "{1, 2, 3, 4, 5, 6, 7, 8, 9, 10, 11, 12, 13, 14}\n"
     ]
    }
   ],
   "source": [
    "Add = {12,13,14}\n",
    "U = U|Add\n",
    "print(U)"
   ]
  },
  {
   "cell_type": "code",
   "execution_count": 15,
   "metadata": {},
   "outputs": [
    {
     "name": "stdout",
     "output_type": "stream",
     "text": [
      "{1, 2, 3, 4, 5, 6, 7, 8, 9, 10, 11}\n"
     ]
    }
   ],
   "source": [
    "Addc = U-Add\n",
    "U = U&Addc\n",
    "print(U)"
   ]
  },
  {
   "cell_type": "code",
   "execution_count": 18,
   "metadata": {},
   "outputs": [
    {
     "name": "stdout",
     "output_type": "stream",
     "text": [
      "U is now a list. [1, 2, 3, 4, 5, 6, 7, 8, 9, 10, 11]\n"
     ]
    },
    {
     "data": {
      "text/plain": [
       "list"
      ]
     },
     "execution_count": 18,
     "metadata": {},
     "output_type": "execute_result"
    }
   ],
   "source": [
    "U = list(U)\n",
    "print('U is now a list.', U)\n",
    "type(U)"
   ]
  },
  {
   "cell_type": "code",
   "execution_count": 30,
   "metadata": {},
   "outputs": [
    {
     "name": "stdout",
     "output_type": "stream",
     "text": [
      "range A, range(1, 14)\n",
      "The universe is set U:  {1, 2, 3, 4, 5, 6, 7, 8, 9, 10, 11, 12, 13, 14, 15, 16, 17, 18, 19, 20, 21, 22, 23, 24, 25, 26}\n",
      "A is, {1, 2, 3, 4, 5, 6, 7, 8, 9, 10, 11, 12, 13}\n",
      "B is, {14, 15, 16, 17, 18, 19, 20, 21, 22, 23, 24, 25, 26}\n",
      "C is, {8, 9, 10, 11, 12, 13, 14, 15, 16, 17, 18, 19, 20}\n"
     ]
    }
   ],
   "source": [
    "U = range(1,27,1)\n",
    "A = U[0:13]\n",
    "B = U[13:]\n",
    "C = U[7:20]\n",
    "print('range A,', A)\n",
    "A = set(A)\n",
    "B = set(B)\n",
    "C = set(C)\n",
    "U = set(U)\n",
    "\n",
    "print('The universe is set U: ', U)\n",
    "\n",
    "print('A is,',A)\n",
    "print('B is,',B)\n",
    "print('C is,',C)\n"
   ]
  },
  {
   "cell_type": "code",
   "execution_count": 33,
   "metadata": {},
   "outputs": [
    {
     "name": "stdout",
     "output_type": "stream",
     "text": [
      "Probability of null intersection  0.0\n"
     ]
    }
   ],
   "source": [
    "T = float(len(U))\n",
    "\n",
    "Null = A&B\n",
    "print('Probability of null intersection ',round(len(Null)/T,3))"
   ]
  },
  {
   "cell_type": "code",
   "execution_count": 40,
   "metadata": {},
   "outputs": [
    {
     "name": "stdout",
     "output_type": "stream",
     "text": [
      "Intersection of A and C is {8, 9, 10, 11, 12, 13}\n",
      "Union of A and C is {1, 2, 3, 4, 5, 6, 7, 8, 9, 10, 11, 12, 13, 14, 15, 16, 17, 18, 19, 20}\n",
      "Probability of A union C =  0.769\n",
      "Probability of A union C =  0.769\n"
     ]
    }
   ],
   "source": [
    "print('Intersection of A and C is', A&C)\n",
    "print('Union of A and C is',A|C)\n",
    "\n",
    "P = (len(A)+len(C)-len(A&C))\n",
    "print('Probability of A union C = ',round(len(A|C)/T,3))\n",
    "print('Probability of A union C = ',round(P/T,3))"
   ]
  },
  {
   "cell_type": "code",
   "execution_count": 43,
   "metadata": {},
   "outputs": [
    {
     "name": "stdout",
     "output_type": "stream",
     "text": [
      "Complement of C is {1, 2, 3, 4, 5, 6, 7, 21, 22, 23, 24, 25, 26}\n",
      "Odds of C are, 1.0\n",
      "{8, 9, 10, 11, 12, 13, 14, 15, 16, 17, 18, 19, 20}\n"
     ]
    },
    {
     "data": {
      "text/plain": [
       "13"
      ]
     },
     "execution_count": 43,
     "metadata": {},
     "output_type": "execute_result"
    }
   ],
   "source": [
    "#Demonstrate the calculation of Odds using the complement rule.\n",
    "print('Complement of C is',(U-C))\n",
    "print('Odds of C are,',round(len(C)/len(U-C),3))\n"
   ]
  },
  {
   "cell_type": "code",
   "execution_count": 44,
   "metadata": {},
   "outputs": [
    {
     "name": "stdout",
     "output_type": "stream",
     "text": [
      "Complement of A intersection C is {1, 2, 3, 4, 5, 6, 7, 14, 15, 16, 17, 18, 19, 20, 21, 22, 23, 24, 25, 26}\n",
      "Odds of A intersection C are 0.3\n"
     ]
    }
   ],
   "source": [
    "print('Complement of A intersection C is',U-(A&C))\n",
    "P = (len(A&C)/float(len(U-(A&C))))\n",
    "print('Odds of A intersection C are',round(P,3))"
   ]
  },
  {
   "cell_type": "code",
   "execution_count": 45,
   "metadata": {},
   "outputs": [
    {
     "name": "stdout",
     "output_type": "stream",
     "text": [
      "Conditional probability of A give C is 0.462\n"
     ]
    }
   ],
   "source": [
    "#Demonstrate conditional probability\n",
    "P = round(len(A&C)/float(len(C)),3)\n",
    "print('Conditional probability of A give C is', P)"
   ]
  },
  {
   "cell_type": "code",
   "execution_count": 46,
   "metadata": {},
   "outputs": [
    {
     "name": "stdout",
     "output_type": "stream",
     "text": [
      "Probability of A and C intersection is 0.231\n",
      "Probability of C is 0.5\n",
      "Product rule result for A and C intersection is 0.231\n"
     ]
    }
   ],
   "source": [
    "#Demonstrate the product rule.\n",
    "print('Probability of A and C intersection is', round((len(A&C)/T),3))\n",
    "Q = len(C)/T\n",
    "print('Probability of C is', round(Q,3))\n",
    "print('Product rule result for A and C intersection is',round(P*Q,3))"
   ]
  },
  {
   "cell_type": "code",
   "execution_count": 52,
   "metadata": {},
   "outputs": [
    {
     "name": "stdout",
     "output_type": "stream",
     "text": [
      "A and B =  {6}\n",
      "A and B' =  {9, 3}\n"
     ]
    }
   ],
   "source": [
    "#Section 7.1 Example #6\n",
    "A = {3,6,9}\n",
    "B = {2,4,6,8}\n",
    "U = set(range(0,11,1))\n",
    "\n",
    "print('A and B = ', A&B)\n",
    "Bc = U - B\n",
    "print(\"A and B' = \", A&Bc)"
   ]
  },
  {
   "cell_type": "code",
   "execution_count": 55,
   "metadata": {},
   "outputs": [
    {
     "name": "stdout",
     "output_type": "stream",
     "text": [
      "{1, 3, 5, 6, 7, 9, 11, 12}\n",
      "{6, 7, 9, 11, 12}\n"
     ]
    }
   ],
   "source": [
    "#Section 7.1 Example #7\n",
    "A = {1,3,5,7,9,11}\n",
    "B = {3,6,9,12}\n",
    "C = {1,2,3,4,5}\n",
    "U = set(range(0,13,1))\n",
    "\n",
    "print(A|B)\n",
    "AUB = A|B\n",
    "Cc = U-C\n",
    "print(AUB&Cc)"
   ]
  },
  {
   "cell_type": "code",
   "execution_count": null,
   "metadata": {},
   "outputs": [],
   "source": []
  }
 ],
 "metadata": {
  "kernelspec": {
   "display_name": "Python 3",
   "language": "python",
   "name": "python3"
  },
  "language_info": {
   "codemirror_mode": {
    "name": "ipython",
    "version": 3
   },
   "file_extension": ".py",
   "mimetype": "text/x-python",
   "name": "python",
   "nbconvert_exporter": "python",
   "pygments_lexer": "ipython3",
   "version": "3.7.3"
  }
 },
 "nbformat": 4,
 "nbformat_minor": 2
}
