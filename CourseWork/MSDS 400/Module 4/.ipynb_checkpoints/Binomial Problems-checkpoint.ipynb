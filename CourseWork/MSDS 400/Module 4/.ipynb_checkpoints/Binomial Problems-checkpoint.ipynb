{
 "cells": [
  {
   "cell_type": "code",
   "execution_count": 24,
   "metadata": {},
   "outputs": [],
   "source": [
    "def factorial(n):\n",
    "    if n == 0:\n",
    "        return 1\n",
    "    else:\n",
    "        recurse = factorial(n - 1)\n",
    "        result = n * recurse\n",
    "        return result\n",
    "\n",
    "\n",
    "def perm(n, k):\n",
    "    if n == 0:\n",
    "        return 1\n",
    "    if k > n:\n",
    "        return -1\n",
    "    else:\n",
    "        return (factorial(n)) / factorial(n - k)\n",
    "\n",
    "\n",
    "def comb(n, k):\n",
    "    result = perm(n, k)\n",
    "    result = result / factorial(k)\n",
    "    result = int(result)\n",
    "    return result\n",
    "\n",
    "def binomial(n, k, p):\n",
    "    return round((comb(n, k)) * (p ** k) * ((1.0 - p) ** (n - k)),4)\n",
    "\n",
    "def expected_value(n,p):\n",
    "    prob = []\n",
    "    nn = list(range(0,n+1,1))\n",
    "    E_x = 0\n",
    "    for i in nn:\n",
    "        y = binomial(n,i,p)\n",
    "        prob.append(y)\n",
    "    for i in nn:\n",
    "        E_x = (nn[i]*prob[i])+E_x\n",
    "    return E_x"
   ]
  },
  {
   "cell_type": "code",
   "execution_count": 25,
   "metadata": {},
   "outputs": [
    {
     "name": "stdout",
     "output_type": "stream",
     "text": [
      "# of successes = 0 probability = 0.0004\n",
      "# of successes = 1 probability = 0.0071\n",
      "# of successes = 2 probability = 0.0551\n",
      "# of successes = 3 probability = 0.2124\n",
      "# of successes = 4 probability = 0.4094\n",
      "# of successes = 5 probability = 0.3156\n"
     ]
    },
    {
     "data": {
      "image/png": "[encoded data removed]",
      "text/plain": [
       "<Figure size 432x288 with 1 Axes>"
      ]
     },
     "metadata": {
      "needs_background": "light"
     },
     "output_type": "display_data"
    },
    {
     "name": "stdout",
     "output_type": "stream",
     "text": [
      "Expected value is 3.970\n"
     ]
    }
   ],
   "source": [
    "import matplotlib.pyplot as plt\n",
    "\n",
    "n = 5\n",
    "x = 0\n",
    "p = 0.794\n",
    "\n",
    "binomial(n,x,p)\n",
    "\n",
    "distribution = []\n",
    "for i in range(0, n + 1):\n",
    "    prob = binomial(n, i, p)\n",
    "    print('# of successes = {} probability = {:2.4f}'.format(i, prob))\n",
    "    distribution = distribution + [prob]\n",
    "\n",
    "x = range(0, n + 1, 1)  # x and y are both lists with the same number of elements.\n",
    "y = distribution\n",
    "\n",
    "plt.figure()\n",
    "plt.bar(x, y, width=0.4, align='center', color='r')\n",
    "plt.plot(x, y)\n",
    "plt.xlabel('Total Number of Trials')\n",
    "plt.ylabel('Probability of Success')\n",
    "plt.title('Binomial Probabilities ')\n",
    "plt.show()\n",
    "\n",
    "a = expected_value(5,0.794)\n",
    "print('Expected value is {:.3f}'.format(a))"
   ]
  },
  {
   "cell_type": "code",
   "execution_count": 13,
   "metadata": {},
   "outputs": [
    {
     "data": {
      "text/plain": [
       "0.7965"
      ]
     },
     "execution_count": 13,
     "metadata": {},
     "output_type": "execute_result"
    }
   ],
   "source": [
    "0.3579+0.4386"
   ]
  },
  {
   "cell_type": "code",
   "execution_count": 15,
   "metadata": {},
   "outputs": [
    {
     "data": {
      "text/plain": [
       "0.20599999999999996"
      ]
     },
     "execution_count": 15,
     "metadata": {},
     "output_type": "execute_result"
    }
   ],
   "source": [
    "#8.5 Example 7\n",
    "p_s = 0.794\n",
    "p_f = 1-p_s\n",
    "p_f"
   ]
  },
  {
   "cell_type": "code",
   "execution_count": 20,
   "metadata": {},
   "outputs": [],
   "source": [
    "\n"
   ]
  },
  {
   "cell_type": "code",
   "execution_count": 23,
   "metadata": {},
   "outputs": [
    {
     "name": "stdout",
     "output_type": "stream",
     "text": [
      "Expected value is 3.970\n"
     ]
    }
   ],
   "source": []
  },
  {
   "cell_type": "code",
   "execution_count": null,
   "metadata": {},
   "outputs": [],
   "source": []
  }
 ],
 "metadata": {
  "kernelspec": {
   "display_name": "Python 3",
   "language": "python",
   "name": "python3"
  },
  "language_info": {
   "codemirror_mode": {
    "name": "ipython",
    "version": 3
   },
   "file_extension": ".py",
   "mimetype": "text/x-python",
   "name": "python",
   "nbconvert_exporter": "python",
   "pygments_lexer": "ipython3",
   "version": "3.7.3"
  }
 },
 "nbformat": 4,
 "nbformat_minor": 2
}
