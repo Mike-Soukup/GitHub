{
 "cells": [
  {
   "cell_type": "code",
   "execution_count": 4,
   "metadata": {},
   "outputs": [
    {
     "data": {
      "text/plain": [
       "10"
      ]
     },
     "execution_count": 4,
     "metadata": {},
     "output_type": "execute_result"
    }
   ],
   "source": [
    "def factorial(n):\n",
    "    if n==0:\n",
    "        return 1\n",
    "    else:\n",
    "        recurse = factorial(n-1)\n",
    "        result = n*recurse\n",
    "        return result\n",
    "\n",
    "def perm(n,k):\n",
    "    if n==0:\n",
    "        return 1\n",
    "    elif k > n:\n",
    "        return -1\n",
    "    else:\n",
    "        return(factorial(n)/factorial(n-k))\n",
    "\n",
    "def comb(n,k):\n",
    "    result = perm(n,k)\n",
    "    result = result/factorial(k)\n",
    "    result = int(result)\n",
    "    return result\n",
    "\n"
   ]
  },
  {
   "cell_type": "code",
   "execution_count": 8,
   "metadata": {},
   "outputs": [
    {
     "name": "stdout",
     "output_type": "stream",
     "text": [
      "What number should we get the factorial for? 5\n",
      "Factorial of 5 is equal to 120.\n"
     ]
    }
   ],
   "source": [
    "inp = input('What number should we get the factorial for? ')\n",
    "int_inp = int(inp)\n",
    "\n",
    "if int_inp > 0:\n",
    "    fact_of_inp = factorial(int_inp)\n",
    "    print('Factorial of {} is equal to {}.'.format(int_inp,fact_of_inp))\n",
    "else:\n",
    "    print('No calculation!')"
   ]
  },
  {
   "cell_type": "code",
   "execution_count": 9,
   "metadata": {},
   "outputs": [
    {
     "name": "stdout",
     "output_type": "stream",
     "text": [
      "Permutation of 10 elements taken 5 at a time = 30240.0.\n",
      "Combination of 10 elements taken 5 at a time = 252.\n"
     ]
    }
   ],
   "source": [
    "#Example calculations follow.\n",
    "permutation = perm(10,5)\n",
    "print('Permutation of 10 elements taken 5 at a time = {}.'.format(permutation))\n",
    "\n",
    "combination = comb(10,5)\n",
    "print('Combination of 10 elements taken 5 at a time = {}.'.format(combination))"
   ]
  },
  {
   "cell_type": "code",
   "execution_count": 14,
   "metadata": {},
   "outputs": [
    {
     "name": "stdout",
     "output_type": "stream",
     "text": [
      "Number of Trials: 10\n",
      "Number of successes: 4\n",
      "Probability of Success: .5\n",
      "Binomial probability with n = 10, x = 4, p = 0.5 is 0.205\n",
      "\n"
     ]
    }
   ],
   "source": [
    "inp = input('Number of Trials: ')\n",
    "int_inp = int(inp) \n",
    "\n",
    "success = input(\"Number of successes: \")\n",
    "int_suc = int(success)\n",
    "\n",
    "prob_of_s = input(\"Probability of Success: \")\n",
    "flt_prob_of_s = float(prob_of_s)\n",
    "\n",
    "prob = (comb(int_inp,int_suc)) *\\\n",
    "        (flt_prob_of_s**int_suc) *\\\n",
    "        ((1.0-flt_prob_of_s)**(int_inp-int_suc))\n",
    "prob = round(prob,3)\n",
    "\n",
    "print('Binomial probability with n = {}, x = {}, p = {} is {}\\n'.format(int_inp,int_suc,flt_prob_of_s,prob))"
   ]
  },
  {
   "cell_type": "code",
   "execution_count": 37,
   "metadata": {},
   "outputs": [
    {
     "name": "stdout",
     "output_type": "stream",
     "text": [
      "Binomial distribution with 10 trials and p= 0.5 follows\n",
      "# of successes = 0 probability of 0.001\n",
      "# of successes = 1 probability of 0.010\n",
      "# of successes = 2 probability of 0.044\n",
      "# of successes = 3 probability of 0.117\n",
      "# of successes = 4 probability of 0.205\n",
      "# of successes = 5 probability of 0.246\n",
      "# of successes = 6 probability of 0.205\n",
      "# of successes = 7 probability of 0.117\n",
      "# of successes = 8 probability of 0.044\n",
      "# of successes = 9 probability of 0.010\n",
      "# of successes = 10 probability of 0.001\n"
     ]
    }
   ],
   "source": [
    "def binomial(n,x,p):\n",
    "    if isinstance(n,int):\n",
    "        if isinstance(x,int):\n",
    "            if isinstance(p,float):\n",
    "                return round(comb(n,x)*(p**x)*((1-p)**(n-x)),3)\n",
    "            else:\n",
    "                return 'p must be a float'\n",
    "        else:\n",
    "            return 'x must be an int'\n",
    "    else:\n",
    "        return 'n must be an int'\n",
    "\n",
    "    \n",
    "print('Binomial distribution with {} trials and p= {} follows'.format(int_inp,flt_prob_of_s))\n",
    "distribution = []\n",
    "for i in range(0,int_inp+1):\n",
    "    prob = binomial(int_inp,i,flt_prob_of_s)\n",
    "    print(\"# of successes = {} probability of {:1.3f}\".format(i,prob))\n",
    "    distribution = distribution + [prob]\n",
    "    \n",
    "x = range(0,int_inp+1,1)\n",
    "y = distribution"
   ]
  },
  {
   "cell_type": "code",
   "execution_count": 43,
   "metadata": {},
   "outputs": [
    {
     "data": {
      "image/png": "[encoded data removed]",
      "text/plain": [
       "<Figure size 432x288 with 1 Axes>"
      ]
     },
     "metadata": {
      "needs_background": "light"
     },
     "output_type": "display_data"
    }
   ],
   "source": [
    "import matplotlib.pyplot as plt\n",
    "plt.figure(1)\n",
    "plt.bar(x,y,width=0.4,align='center',color='r')\n",
    "plt.plot(x,y)\n",
    "plt.xlabel('Total Number of Trials')\n",
    "plt.ylabel('Probability of Success')\n",
    "plt.title('Binomial Probabilities')\n",
    "plt.show()"
   ]
  },
  {
   "cell_type": "code",
   "execution_count": null,
   "metadata": {},
   "outputs": [],
   "source": []
  }
 ],
 "metadata": {
  "kernelspec": {
   "display_name": "Python 3",
   "language": "python",
   "name": "python3"
  },
  "language_info": {
   "codemirror_mode": {
    "name": "ipython",
    "version": 3
   },
   "file_extension": ".py",
   "mimetype": "text/x-python",
   "name": "python",
   "nbconvert_exporter": "python",
   "pygments_lexer": "ipython3",
   "version": "3.7.3"
  }
 },
 "nbformat": 4,
 "nbformat_minor": 2
}
