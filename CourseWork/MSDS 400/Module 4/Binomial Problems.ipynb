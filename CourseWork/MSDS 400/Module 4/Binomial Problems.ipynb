{
 "cells": [
  {
   "cell_type": "code",
   "execution_count": 16,
   "metadata": {},
   "outputs": [],
   "source": [
    "def factorial(n):\n",
    "    if n == 0:\n",
    "        return 1\n",
    "    else:\n",
    "        recurse = factorial(n - 1)\n",
    "        result = n * recurse\n",
    "        return result\n",
    "\n",
    "\n",
    "def perm(n, k):\n",
    "    if n == 0:\n",
    "        return 1\n",
    "    if k > n:\n",
    "        return -1\n",
    "    else:\n",
    "        return (factorial(n)) / factorial(n - k)\n",
    "\n",
    "\n",
    "def comb(n, k):\n",
    "    result = perm(n, k)\n",
    "    result = result / factorial(k)\n",
    "    result = int(result)\n",
    "    return result\n",
    "\n",
    "def binomial(n, k, p):\n",
    "    return round((comb(n, k)) * (p ** k) * ((1.0 - p) ** (n - k)),4)\n",
    "\n",
    "def expected_value(n,p):\n",
    "    prob = []\n",
    "    nn = list(range(0,n+1,1))\n",
    "    E_x = 0\n",
    "    for i in nn:\n",
    "        y = binomial(n,i,p)\n",
    "        prob.append(y)\n",
    "    for i in nn:\n",
    "        E_x = (nn[i]*prob[i])+E_x\n",
    "    return E_x"
   ]
  },
  {
   "cell_type": "code",
   "execution_count": 22,
   "metadata": {},
   "outputs": [
    {
     "name": "stdout",
     "output_type": "stream",
     "text": [
      "# of successes = 0 probability = 0.0000\n",
      "# of successes = 1 probability = 0.0000\n",
      "# of successes = 2 probability = 0.0000\n",
      "# of successes = 3 probability = 0.0000\n",
      "# of successes = 4 probability = 0.0000\n",
      "# of successes = 5 probability = 0.0000\n",
      "# of successes = 6 probability = 0.0000\n",
      "# of successes = 7 probability = 0.0000\n",
      "# of successes = 8 probability = 0.0000\n",
      "# of successes = 9 probability = 0.0000\n",
      "# of successes = 10 probability = 0.0000\n",
      "# of successes = 11 probability = 0.0000\n",
      "# of successes = 12 probability = 0.0000\n",
      "# of successes = 13 probability = 0.0000\n",
      "# of successes = 14 probability = 0.0000\n",
      "# of successes = 15 probability = 0.0000\n",
      "# of successes = 16 probability = 0.0000\n",
      "# of successes = 17 probability = 0.0000\n",
      "# of successes = 18 probability = 0.0000\n",
      "# of successes = 19 probability = 0.0000\n",
      "# of successes = 20 probability = 0.0000\n",
      "# of successes = 21 probability = 0.0000\n",
      "# of successes = 22 probability = 0.0000\n",
      "# of successes = 23 probability = 0.0000\n",
      "# of successes = 24 probability = 0.0000\n",
      "# of successes = 25 probability = 0.0000\n",
      "# of successes = 26 probability = 0.0000\n",
      "# of successes = 27 probability = 0.0000\n",
      "# of successes = 28 probability = 0.0000\n",
      "# of successes = 29 probability = 0.0000\n",
      "# of successes = 30 probability = 0.0000\n",
      "# of successes = 31 probability = 0.0000\n",
      "# of successes = 32 probability = 0.0000\n",
      "# of successes = 33 probability = 0.0000\n",
      "# of successes = 34 probability = 0.0000\n",
      "# of successes = 35 probability = 0.0000\n",
      "# of successes = 36 probability = 0.0000\n",
      "# of successes = 37 probability = 0.0000\n",
      "# of successes = 38 probability = 0.0000\n",
      "# of successes = 39 probability = 0.0000\n",
      "# of successes = 40 probability = 0.0000\n",
      "# of successes = 41 probability = 0.0000\n",
      "# of successes = 42 probability = 0.0000\n",
      "# of successes = 43 probability = 0.0000\n",
      "# of successes = 44 probability = 0.0000\n",
      "# of successes = 45 probability = 0.0000\n",
      "# of successes = 46 probability = 0.0000\n",
      "# of successes = 47 probability = 0.0000\n",
      "# of successes = 48 probability = 0.0000\n",
      "# of successes = 49 probability = 0.0000\n",
      "# of successes = 50 probability = 0.0000\n",
      "# of successes = 51 probability = 0.0000\n",
      "# of successes = 52 probability = 0.0000\n",
      "# of successes = 53 probability = 0.0000\n",
      "# of successes = 54 probability = 0.0000\n",
      "# of successes = 55 probability = 0.0000\n",
      "# of successes = 56 probability = 0.0000\n",
      "# of successes = 57 probability = 0.0000\n",
      "# of successes = 58 probability = 0.0000\n",
      "# of successes = 59 probability = 0.0000\n",
      "# of successes = 60 probability = 0.0000\n",
      "# of successes = 61 probability = 0.0000\n",
      "# of successes = 62 probability = 0.0000\n",
      "# of successes = 63 probability = 0.0000\n",
      "# of successes = 64 probability = 0.0000\n",
      "# of successes = 65 probability = 0.0000\n",
      "# of successes = 66 probability = 0.0000\n",
      "# of successes = 67 probability = 0.0000\n",
      "# of successes = 68 probability = 0.0000\n",
      "# of successes = 69 probability = 0.0000\n",
      "# of successes = 70 probability = 0.0000\n",
      "# of successes = 71 probability = 0.0001\n",
      "# of successes = 72 probability = 0.0001\n",
      "# of successes = 73 probability = 0.0003\n",
      "# of successes = 74 probability = 0.0005\n",
      "# of successes = 75 probability = 0.0009\n",
      "# of successes = 76 probability = 0.0015\n",
      "# of successes = 77 probability = 0.0024\n",
      "# of successes = 78 probability = 0.0038\n",
      "# of successes = 79 probability = 0.0058\n",
      "# of successes = 80 probability = 0.0086\n",
      "# of successes = 81 probability = 0.0125\n",
      "# of successes = 82 probability = 0.0174\n",
      "# of successes = 83 probability = 0.0234\n",
      "# of successes = 84 probability = 0.0306\n",
      "# of successes = 85 probability = 0.0386\n",
      "# of successes = 86 probability = 0.0472\n",
      "# of successes = 87 probability = 0.0557\n",
      "# of successes = 88 probability = 0.0635\n",
      "# of successes = 89 probability = 0.0699\n",
      "# of successes = 90 probability = 0.0743\n",
      "# of successes = 91 probability = 0.0762\n",
      "# of successes = 92 probability = 0.0753\n",
      "# of successes = 93 probability = 0.0718\n",
      "# of successes = 94 probability = 0.0660\n",
      "# of successes = 95 probability = 0.0583\n",
      "# of successes = 96 probability = 0.0496\n",
      "# of successes = 97 probability = 0.0406\n",
      "# of successes = 98 probability = 0.0319\n",
      "# of successes = 99 probability = 0.0241\n",
      "# of successes = 100 probability = 0.0174\n",
      "# of successes = 101 probability = 0.0121\n",
      "# of successes = 102 probability = 0.0080\n",
      "# of successes = 103 probability = 0.0051\n",
      "# of successes = 104 probability = 0.0031\n",
      "# of successes = 105 probability = 0.0018\n",
      "# of successes = 106 probability = 0.0010\n",
      "# of successes = 107 probability = 0.0005\n",
      "# of successes = 108 probability = 0.0003\n",
      "# of successes = 109 probability = 0.0001\n",
      "# of successes = 110 probability = 0.0001\n",
      "# of successes = 111 probability = 0.0000\n",
      "# of successes = 112 probability = 0.0000\n",
      "# of successes = 113 probability = 0.0000\n",
      "# of successes = 114 probability = 0.0000\n",
      "# of successes = 115 probability = 0.0000\n",
      "# of successes = 116 probability = 0.0000\n",
      "# of successes = 117 probability = 0.0000\n",
      "# of successes = 118 probability = 0.0000\n",
      "# of successes = 119 probability = 0.0000\n",
      "# of successes = 120 probability = 0.0000\n",
      "# of successes = 121 probability = 0.0000\n",
      "# of successes = 122 probability = 0.0000\n",
      "# of successes = 123 probability = 0.0000\n",
      "# of successes = 124 probability = 0.0000\n",
      "# of successes = 125 probability = 0.0000\n",
      "# of successes = 126 probability = 0.0000\n",
      "# of successes = 127 probability = 0.0000\n",
      "# of successes = 128 probability = 0.0000\n",
      "# of successes = 129 probability = 0.0000\n",
      "# of successes = 130 probability = 0.0000\n"
     ]
    },
    {
     "data": {
      "image/png": "[encoded data removed]",
      "text/plain": [
       "<Figure size 432x288 with 1 Axes>"
      ]
     },
     "metadata": {
      "needs_background": "light"
     },
     "output_type": "display_data"
    },
    {
     "name": "stdout",
     "output_type": "stream",
     "text": [
      "Expected value is 91.038\n"
     ]
    }
   ],
   "source": [
    "import matplotlib.pyplot as plt\n",
    "\n",
    "n = 130\n",
    "x = 10\n",
    "p = 0.70\n",
    "\n",
    "binomial(n,x,p)\n",
    "\n",
    "distribution = []\n",
    "for i in range(0, n + 1):\n",
    "    prob = binomial(n, i, p)\n",
    "    print('# of successes = {} probability = {:2.4f}'.format(i, prob))\n",
    "    distribution = distribution + [prob]\n",
    "\n",
    "x = range(0, n + 1, 1)  # x and y are both lists with the same number of elements.\n",
    "y = distribution\n",
    "\n",
    "plt.figure()\n",
    "plt.bar(x, y, width=0.4, align='center', color='r')\n",
    "plt.plot(x, y)\n",
    "plt.xlabel('Total Number of Trials')\n",
    "plt.ylabel('Probability of Success')\n",
    "plt.title('Binomial Probabilities ')\n",
    "plt.show()\n",
    "\n",
    "a = expected_value(130,0.70)\n",
    "print('Expected value is {:.3f}'.format(a))"
   ]
  },
  {
   "cell_type": "code",
   "execution_count": 13,
   "metadata": {},
   "outputs": [
    {
     "data": {
      "text/plain": [
       "0.7965"
      ]
     },
     "execution_count": 13,
     "metadata": {},
     "output_type": "execute_result"
    }
   ],
   "source": [
    "0.3579+0.4386"
   ]
  },
  {
   "cell_type": "code",
   "execution_count": 15,
   "metadata": {},
   "outputs": [
    {
     "data": {
      "text/plain": [
       "0.20599999999999996"
      ]
     },
     "execution_count": 15,
     "metadata": {},
     "output_type": "execute_result"
    }
   ],
   "source": [
    "#8.5 Example 7\n",
    "p_s = 0.794\n",
    "p_f = 1-p_s\n",
    "p_f"
   ]
  },
  {
   "cell_type": "code",
   "execution_count": 28,
   "metadata": {},
   "outputs": [
    {
     "data": {
      "text/plain": [
       "1.0"
      ]
     },
     "execution_count": 28,
     "metadata": {},
     "output_type": "execute_result"
    }
   ],
   "source": [
    "0.87**17\n",
    "0.13**0"
   ]
  },
  {
   "cell_type": "code",
   "execution_count": 10,
   "metadata": {},
   "outputs": [
    {
     "data": {
      "text/plain": [
       "165"
      ]
     },
     "execution_count": 10,
     "metadata": {},
     "output_type": "execute_result"
    }
   ],
   "source": [
    "comb(12,4)\n",
    "comb(11,3)\n"
   ]
  },
  {
   "cell_type": "code",
   "execution_count": 11,
   "metadata": {},
   "outputs": [
    {
     "data": {
      "text/plain": [
       "0.988"
      ]
     },
     "execution_count": 11,
     "metadata": {},
     "output_type": "execute_result"
    }
   ],
   "source": [
    "1-0.012"
   ]
  },
  {
   "cell_type": "code",
   "execution_count": 12,
   "metadata": {},
   "outputs": [
    {
     "data": {
      "text/plain": [
       "180"
      ]
     },
     "execution_count": 12,
     "metadata": {},
     "output_type": "execute_result"
    }
   ],
   "source": [
    "comb(180,1)"
   ]
  },
  {
   "cell_type": "code",
   "execution_count": 13,
   "metadata": {},
   "outputs": [
    {
     "data": {
      "text/plain": [
       "0.11521077052682385"
      ]
     },
     "execution_count": 13,
     "metadata": {},
     "output_type": "execute_result"
    }
   ],
   "source": [
    "0.988**179"
   ]
  },
  {
   "cell_type": "code",
   "execution_count": 14,
   "metadata": {},
   "outputs": [
    {
     "data": {
      "text/plain": [
       "0.248832"
      ]
     },
     "execution_count": 14,
     "metadata": {},
     "output_type": "execute_result"
    }
   ],
   "source": [
    "180*0.012*0.1152"
   ]
  },
  {
   "cell_type": "code",
   "execution_count": 19,
   "metadata": {},
   "outputs": [
    {
     "data": {
      "text/plain": [
       "9000"
      ]
     },
     "execution_count": 19,
     "metadata": {},
     "output_type": "execute_result"
    }
   ],
   "source": [
    "9*10**3"
   ]
  },
  {
   "cell_type": "code",
   "execution_count": 20,
   "metadata": {},
   "outputs": [
    {
     "data": {
      "text/plain": [
       "91.03839999999998"
      ]
     },
     "execution_count": 20,
     "metadata": {},
     "output_type": "execute_result"
    }
   ],
   "source": [
    "expected_value(130,0.70)"
   ]
  },
  {
   "cell_type": "code",
   "execution_count": 23,
   "metadata": {},
   "outputs": [
    {
     "data": {
      "text/plain": [
       "9977"
      ]
     },
     "execution_count": 23,
     "metadata": {},
     "output_type": "execute_result"
    }
   ],
   "source": [
    "10000-20-2-1"
   ]
  },
  {
   "cell_type": "code",
   "execution_count": 24,
   "metadata": {},
   "outputs": [
    {
     "data": {
      "text/plain": [
       "0.18"
      ]
     },
     "execution_count": 24,
     "metadata": {},
     "output_type": "execute_result"
    }
   ],
   "source": [
    "((1/10000)*1000)+((2/10000)*300)+((20/10000)*10)"
   ]
  },
  {
   "cell_type": "code",
   "execution_count": 25,
   "metadata": {},
   "outputs": [
    {
     "data": {
      "text/plain": [
       "-0.5700000000000001"
      ]
     },
     "execution_count": 25,
     "metadata": {},
     "output_type": "execute_result"
    }
   ],
   "source": [
    "0.18-0.75"
   ]
  },
  {
   "cell_type": "code",
   "execution_count": 26,
   "metadata": {},
   "outputs": [
    {
     "data": {
      "text/plain": [
       "8.0"
      ]
     },
     "execution_count": 26,
     "metadata": {},
     "output_type": "execute_result"
    }
   ],
   "source": [
    "perm(8,1)"
   ]
  },
  {
   "cell_type": "code",
   "execution_count": 27,
   "metadata": {},
   "outputs": [
    {
     "data": {
      "text/plain": [
       "22"
      ]
     },
     "execution_count": 27,
     "metadata": {},
     "output_type": "execute_result"
    }
   ],
   "source": [
    "38-16"
   ]
  },
  {
   "cell_type": "code",
   "execution_count": 28,
   "metadata": {},
   "outputs": [
    {
     "data": {
      "text/plain": [
       "4.6532231211338253e+23"
      ]
     },
     "execution_count": 28,
     "metadata": {},
     "output_type": "execute_result"
    }
   ],
   "source": [
    "perm(38,16)"
   ]
  },
  {
   "cell_type": "code",
   "execution_count": 29,
   "metadata": {},
   "outputs": [
    {
     "data": {
      "text/plain": [
       "132"
      ]
     },
     "execution_count": 29,
     "metadata": {},
     "output_type": "execute_result"
    }
   ],
   "source": [
    "12*11"
   ]
  },
  {
   "cell_type": "code",
   "execution_count": 31,
   "metadata": {},
   "outputs": [
    {
     "data": {
      "text/plain": [
       "132.0"
      ]
     },
     "execution_count": 31,
     "metadata": {},
     "output_type": "execute_result"
    }
   ],
   "source": [
    "perm(12,2)"
   ]
  },
  {
   "cell_type": "code",
   "execution_count": 32,
   "metadata": {},
   "outputs": [
    {
     "data": {
      "text/plain": [
       "66"
      ]
     },
     "execution_count": 32,
     "metadata": {},
     "output_type": "execute_result"
    }
   ],
   "source": [
    "comb(12,2)"
   ]
  },
  {
   "cell_type": "code",
   "execution_count": 33,
   "metadata": {},
   "outputs": [
    {
     "data": {
      "text/plain": [
       "6"
      ]
     },
     "execution_count": 33,
     "metadata": {},
     "output_type": "execute_result"
    }
   ],
   "source": [
    "comb(4,2)"
   ]
  },
  {
   "cell_type": "code",
   "execution_count": 34,
   "metadata": {},
   "outputs": [
    {
     "data": {
      "text/plain": [
       "0.2727272727272727"
      ]
     },
     "execution_count": 34,
     "metadata": {},
     "output_type": "execute_result"
    }
   ],
   "source": [
    "18/66"
   ]
  },
  {
   "cell_type": "code",
   "execution_count": 35,
   "metadata": {},
   "outputs": [
    {
     "data": {
      "text/plain": [
       "2598960"
      ]
     },
     "execution_count": 35,
     "metadata": {},
     "output_type": "execute_result"
    }
   ],
   "source": [
    "comb(52,5)"
   ]
  },
  {
   "cell_type": "code",
   "execution_count": 41,
   "metadata": {},
   "outputs": [
    {
     "data": {
      "text/plain": [
       "1.5390771693292702e-06"
      ]
     },
     "execution_count": 41,
     "metadata": {},
     "output_type": "execute_result"
    }
   ],
   "source": [
    "4*(1/comb(52,5))"
   ]
  },
  {
   "cell_type": "code",
   "execution_count": 37,
   "metadata": {},
   "outputs": [
    {
     "data": {
      "text/plain": [
       "220"
      ]
     },
     "execution_count": 37,
     "metadata": {},
     "output_type": "execute_result"
    }
   ],
   "source": [
    "comb(12,3)"
   ]
  },
  {
   "cell_type": "code",
   "execution_count": 38,
   "metadata": {},
   "outputs": [
    {
     "data": {
      "text/plain": [
       "55"
      ]
     },
     "execution_count": 38,
     "metadata": {},
     "output_type": "execute_result"
    }
   ],
   "source": [
    "comb(11,2)"
   ]
  },
  {
   "cell_type": "code",
   "execution_count": 39,
   "metadata": {},
   "outputs": [
    {
     "data": {
      "text/plain": [
       "84"
      ]
     },
     "execution_count": 39,
     "metadata": {},
     "output_type": "execute_result"
    }
   ],
   "source": [
    "comb(9,3)"
   ]
  },
  {
   "cell_type": "code",
   "execution_count": 40,
   "metadata": {},
   "outputs": [
    {
     "data": {
      "text/plain": [
       "136"
      ]
     },
     "execution_count": 40,
     "metadata": {},
     "output_type": "execute_result"
    }
   ],
   "source": [
    "220-84"
   ]
  },
  {
   "cell_type": "code",
   "execution_count": 42,
   "metadata": {},
   "outputs": [
    {
     "data": {
      "text/plain": [
       "0.595"
      ]
     },
     "execution_count": 42,
     "metadata": {},
     "output_type": "execute_result"
    }
   ],
   "source": [
    "0.85*0.70"
   ]
  },
  {
   "cell_type": "code",
   "execution_count": 43,
   "metadata": {},
   "outputs": [
    {
     "data": {
      "text/plain": [
       "0.255"
      ]
     },
     "execution_count": 43,
     "metadata": {},
     "output_type": "execute_result"
    }
   ],
   "source": [
    "0.85*0.3"
   ]
  },
  {
   "cell_type": "code",
   "execution_count": 44,
   "metadata": {},
   "outputs": [
    {
     "data": {
      "text/plain": [
       "0.045"
      ]
     },
     "execution_count": 44,
     "metadata": {},
     "output_type": "execute_result"
    }
   ],
   "source": [
    "0.15*0.30"
   ]
  },
  {
   "cell_type": "code",
   "execution_count": 45,
   "metadata": {},
   "outputs": [
    {
     "data": {
      "text/plain": [
       "0.105"
      ]
     },
     "execution_count": 45,
     "metadata": {},
     "output_type": "execute_result"
    }
   ],
   "source": [
    "0.15*0.70"
   ]
  },
  {
   "cell_type": "code",
   "execution_count": 46,
   "metadata": {},
   "outputs": [
    {
     "data": {
      "text/plain": [
       "0.0703125"
      ]
     },
     "execution_count": 46,
     "metadata": {},
     "output_type": "execute_result"
    }
   ],
   "source": [
    "0.045/(0.595+0.045)"
   ]
  },
  {
   "cell_type": "code",
   "execution_count": 53,
   "metadata": {},
   "outputs": [
    {
     "name": "stdout",
     "output_type": "stream",
     "text": [
      "{'d', 't', 'b', 'm', 'c', 'p', 'a', 'e'}\n"
     ]
    },
    {
     "data": {
      "text/plain": [
       "{'h', 'o', 's'}"
      ]
     },
     "execution_count": 53,
     "metadata": {},
     "output_type": "execute_result"
    }
   ],
   "source": [
    "U = {'m','b','t','p','a','e','d','c','s','h','o'}\n",
    "H = {'m','b','t','p','a'}\n",
    "S = {'e','a','d','m','c'}\n",
    "O = {'s','p','h','m','o'}\n",
    "SH = S | H\n",
    "print(SH)\n",
    "SHc = U-SH\n",
    "SHc\n"
   ]
  },
  {
   "cell_type": "code",
   "execution_count": 54,
   "metadata": {},
   "outputs": [
    {
     "data": {
      "text/plain": [
       "14"
      ]
     },
     "execution_count": 54,
     "metadata": {},
     "output_type": "execute_result"
    }
   ],
   "source": [
    "18-4"
   ]
  },
  {
   "cell_type": "code",
   "execution_count": 55,
   "metadata": {},
   "outputs": [
    {
     "data": {
      "text/plain": [
       "2"
      ]
     },
     "execution_count": 55,
     "metadata": {},
     "output_type": "execute_result"
    }
   ],
   "source": [
    "23-3-4-14"
   ]
  },
  {
   "cell_type": "code",
   "execution_count": 56,
   "metadata": {},
   "outputs": [],
   "source": [
    "import numpy\n",
    "from numpy import *\n",
    "from numpy.linalg import *"
   ]
  },
  {
   "cell_type": "code",
   "execution_count": 64,
   "metadata": {},
   "outputs": [
    {
     "data": {
      "text/plain": [
       "matrix([[ 4.],\n",
       "        [ 5.],\n",
       "        [ 3.],\n",
       "        [ 2.],\n",
       "        [10.],\n",
       "        [ 4.],\n",
       "        [14.],\n",
       "        [10.]])"
      ]
     },
     "execution_count": 64,
     "metadata": {},
     "output_type": "execute_result"
    }
   ],
   "source": [
    "lhs = [[0,1,1,0,1,1,0,0],[0,0,1,1,0,1,1,0],[0,0,0,0,1,1,1,1],[0,0,1,0,0,1,0,0],[0,0,0,0,0,1,1,0],[0,0,0,0,0,1,0,0],[1,0,0,0,0,0,0,0],[1,1,1,1,1,1,1,1]]\n",
    "rhs = [22,23,38,7,18,4,4,52]\n",
    "A = matrix(lhs)\n",
    "B = matrix(rhs)\n",
    "B = transpose(B)\n",
    "result = linalg.solve(A,B)\n",
    "result"
   ]
  },
  {
   "cell_type": "code",
   "execution_count": 65,
   "metadata": {},
   "outputs": [
    {
     "data": {
      "text/plain": [
       "0.25"
      ]
     },
     "execution_count": 65,
     "metadata": {},
     "output_type": "execute_result"
    }
   ],
   "source": [
    "a = 1/8\n",
    "b = 0.5\n",
    "a/b\n"
   ]
  },
  {
   "cell_type": "code",
   "execution_count": 66,
   "metadata": {},
   "outputs": [
    {
     "data": {
      "text/plain": [
       "100"
      ]
     },
     "execution_count": 66,
     "metadata": {},
     "output_type": "execute_result"
    }
   ],
   "source": [
    "56+24+16+4"
   ]
  },
  {
   "cell_type": "code",
   "execution_count": 67,
   "metadata": {},
   "outputs": [
    {
     "data": {
      "text/plain": [
       "0.32299999999999995"
      ]
     },
     "execution_count": 67,
     "metadata": {},
     "output_type": "execute_result"
    }
   ],
   "source": [
    "1-0.677"
   ]
  },
  {
   "cell_type": "code",
   "execution_count": 68,
   "metadata": {},
   "outputs": [
    {
     "data": {
      "text/plain": [
       "0.64"
      ]
     },
     "execution_count": 68,
     "metadata": {},
     "output_type": "execute_result"
    }
   ],
   "source": [
    "1-0.36"
   ]
  },
  {
   "cell_type": "code",
   "execution_count": 69,
   "metadata": {},
   "outputs": [
    {
     "data": {
      "text/plain": [
       "0.02031"
      ]
     },
     "execution_count": 69,
     "metadata": {},
     "output_type": "execute_result"
    }
   ],
   "source": [
    "0.677*0.03"
   ]
  },
  {
   "cell_type": "code",
   "execution_count": 70,
   "metadata": {},
   "outputs": [
    {
     "data": {
      "text/plain": [
       "0.65669"
      ]
     },
     "execution_count": 70,
     "metadata": {},
     "output_type": "execute_result"
    }
   ],
   "source": [
    "0.677*0.97"
   ]
  },
  {
   "cell_type": "code",
   "execution_count": 71,
   "metadata": {},
   "outputs": [
    {
     "data": {
      "text/plain": [
       "0.11628"
      ]
     },
     "execution_count": 71,
     "metadata": {},
     "output_type": "execute_result"
    }
   ],
   "source": [
    "0.323*0.36"
   ]
  },
  {
   "cell_type": "code",
   "execution_count": 72,
   "metadata": {},
   "outputs": [
    {
     "data": {
      "text/plain": [
       "0.20672000000000001"
      ]
     },
     "execution_count": 72,
     "metadata": {},
     "output_type": "execute_result"
    }
   ],
   "source": [
    "0.323*0.64"
   ]
  },
  {
   "cell_type": "code",
   "execution_count": 73,
   "metadata": {},
   "outputs": [
    {
     "data": {
      "text/plain": [
       "0.1366"
      ]
     },
     "execution_count": 73,
     "metadata": {},
     "output_type": "execute_result"
    }
   ],
   "source": [
    "0.0203+0.1163"
   ]
  },
  {
   "cell_type": "code",
   "execution_count": 74,
   "metadata": {},
   "outputs": [
    {
     "data": {
      "text/plain": [
       "0.1486090775988287"
      ]
     },
     "execution_count": 74,
     "metadata": {},
     "output_type": "execute_result"
    }
   ],
   "source": [
    "0.0203/0.1366"
   ]
  },
  {
   "cell_type": "code",
   "execution_count": 75,
   "metadata": {},
   "outputs": [
    {
     "data": {
      "text/plain": [
       "0.8634"
      ]
     },
     "execution_count": 75,
     "metadata": {},
     "output_type": "execute_result"
    }
   ],
   "source": [
    "0.2067+0.6567"
   ]
  },
  {
   "cell_type": "code",
   "execution_count": 76,
   "metadata": {},
   "outputs": [
    {
     "data": {
      "text/plain": [
       "0.23940236275191107"
      ]
     },
     "execution_count": 76,
     "metadata": {},
     "output_type": "execute_result"
    }
   ],
   "source": [
    "0.2067/0.8634"
   ]
  },
  {
   "cell_type": "code",
   "execution_count": null,
   "metadata": {},
   "outputs": [],
   "source": []
  }
 ],
 "metadata": {
  "kernelspec": {
   "display_name": "Python 3",
   "language": "python",
   "name": "python3"
  },
  "language_info": {
   "codemirror_mode": {
    "name": "ipython",
    "version": 3
   },
   "file_extension": ".py",
   "mimetype": "text/x-python",
   "name": "python",
   "nbconvert_exporter": "python",
   "pygments_lexer": "ipython3",
   "version": "3.7.3"
  }
 },
 "nbformat": 4,
 "nbformat_minor": 2
}
