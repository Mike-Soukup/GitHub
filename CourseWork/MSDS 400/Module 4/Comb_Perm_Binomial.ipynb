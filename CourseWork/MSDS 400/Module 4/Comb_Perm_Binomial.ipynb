{
 "cells": [
  {
   "cell_type": "code",
   "execution_count": 1,
   "metadata": {},
   "outputs": [],
   "source": [
    "def factorial(n):\n",
    "    if n==0:\n",
    "        return 1\n",
    "    else:\n",
    "        recurse = factorial(n-1)\n",
    "        result = n*recurse\n",
    "        return result\n",
    "\n",
    "def perm(n,k):\n",
    "    if n==0:\n",
    "        return 1\n",
    "    elif k > n:\n",
    "        return -1\n",
    "    else:\n",
    "        return(factorial(n)/factorial(n-k))\n",
    "\n",
    "def comb(n,k):\n",
    "    result = perm(n,k)\n",
    "    result = result/factorial(k)\n",
    "    result = int(result)\n",
    "    return result\n",
    "\n"
   ]
  },
  {
   "cell_type": "code",
   "execution_count": 2,
   "metadata": {},
   "outputs": [
    {
     "name": "stdout",
     "output_type": "stream",
     "text": [
      "What number should we get the factorial for? 4\n",
      "Factorial of 4 is equal to 24.\n"
     ]
    }
   ],
   "source": [
    "inp = input('What number should we get the factorial for? ')\n",
    "int_inp = int(inp)\n",
    "\n",
    "if int_inp > 0:\n",
    "    fact_of_inp = factorial(int_inp)\n",
    "    print('Factorial of {} is equal to {}.'.format(int_inp,fact_of_inp))\n",
    "else:\n",
    "    print('No calculation!')"
   ]
  },
  {
   "cell_type": "code",
   "execution_count": 3,
   "metadata": {},
   "outputs": [
    {
     "name": "stdout",
     "output_type": "stream",
     "text": [
      "Permutation of 10 elements taken 5 at a time = 30240.0.\n",
      "Combination of 10 elements taken 5 at a time = 252.\n"
     ]
    }
   ],
   "source": [
    "#Example calculations follow.\n",
    "permutation = perm(10,5)\n",
    "print('Permutation of 10 elements taken 5 at a time = {}.'.format(permutation))\n",
    "\n",
    "combination = comb(10,5)\n",
    "print('Combination of 10 elements taken 5 at a time = {}.'.format(combination))"
   ]
  },
  {
   "cell_type": "code",
   "execution_count": 6,
   "metadata": {},
   "outputs": [
    {
     "name": "stdout",
     "output_type": "stream",
     "text": [
      "Number of Trials: 4\n",
      "Number of successes: 4\n",
      "Probability of Success: 4\n",
      "Binomial probability with n = 4, x = 4, p = 4.0 is 256.0\n",
      "\n"
     ]
    }
   ],
   "source": [
    "inp = input('Number of Trials: ')\n",
    "int_inp = int(inp) \n",
    "\n",
    "success = input(\"Number of successes: \")\n",
    "int_suc = int(success)\n",
    "\n",
    "prob_of_s = input(\"Probability of Success: \")\n",
    "flt_prob_of_s = float(prob_of_s)\n",
    "\n",
    "prob = (comb(int_inp,int_suc)) *\\\n",
    "        (flt_prob_of_s**int_suc) *\\\n",
    "        ((1.0-flt_prob_of_s)**(int_inp-int_suc))\n",
    "prob = round(prob,3)\n",
    "\n",
    "print('Binomial probability with n = {}, x = {}, p = {} is {}\\n'.format(int_inp,int_suc,flt_prob_of_s,prob))"
   ]
  },
  {
   "cell_type": "code",
   "execution_count": 9,
   "metadata": {},
   "outputs": [
    {
     "data": {
      "image/png": "[encoded data removed]",
      "text/plain": [
       "<Figure size 432x288 with 1 Axes>"
      ]
     },
     "metadata": {
      "needs_background": "light"
     },
     "output_type": "display_data"
    }
   ],
   "source": [
    "import matplotlib.pyplot as plt\n",
    "plt.figure(1)\n",
    "plt.bar(x,y,width=0.4,align='center',color='r')\n",
    "plt.plot(x,y)\n",
    "plt.xlabel('Total Number of Trials')\n",
    "plt.ylabel('Probability of Success')\n",
    "plt.title('Binomial Probabilities')\n",
    "plt.show()"
   ]
  },
  {
   "cell_type": "code",
   "execution_count": 15,
   "metadata": {},
   "outputs": [
    {
     "name": "stdout",
     "output_type": "stream",
     "text": [
      "The number of trigrams is 8\n",
      "The number of hexagrams is 64\n"
     ]
    }
   ],
   "source": [
    "#Section 8.1 Example #3\n",
    "#Part a =  number of trigrams.\n",
    "tri = 2*2*2\n",
    "print('The number of trigrams is {:.0f}'.format(tri))\n",
    "hexagrams = 2**6\n",
    "print('The number of hexagrams is {:.0f}'.format(hexagrams))\n"
   ]
  },
  {
   "cell_type": "code",
   "execution_count": 17,
   "metadata": {},
   "outputs": [
    {
     "name": "stdout",
     "output_type": "stream",
     "text": [
      "The letters in Mississippi can be arranged in 34650 different ways\n"
     ]
    }
   ],
   "source": [
    "#Section 8.1 Example #9\n",
    "import math\n",
    "MS = factorial(11)/(factorial(1)*factorial(4)*factorial(4)*factorial(2))\n",
    "print('The letters in Mississippi can be arranged in {:.0f} different ways'.format(MS))"
   ]
  },
  {
   "cell_type": "code",
   "execution_count": 22,
   "metadata": {},
   "outputs": [
    {
     "name": "stdout",
     "output_type": "stream",
     "text": [
      "The salesman can select 3 accounts in 120 different ways\n",
      "The number of ways the salesman can select at least 8 of the 10 accounts is 56\n"
     ]
    }
   ],
   "source": [
    "#Section 8.2 Example #3\n",
    "combo_1 = (10*9*8)/factorial(3)\n",
    "combo_2 = comb(10,3)\n",
    "if combo_1 == combo_2:\n",
    "    print('The salesman can select 3 accounts in {:.0f} different ways'.format(combo_1))\n",
    "else:\n",
    "    print('flawed logic, rethink')\n",
    "#Part b\n",
    "combo_3 = comb(10,8)+comb(10,9)+comb(10,10)\n",
    "print('The number of ways the salesman can select at least 8 of the 10 accounts is {:.0f}'.format(combo_3))\n"
   ]
  },
  {
   "cell_type": "code",
   "execution_count": 41,
   "metadata": {},
   "outputs": [
    {
     "name": "stdout",
     "output_type": "stream",
     "text": [
      "Good\n",
      "Good\n",
      "Good\n",
      "Good\n",
      "Good\n"
     ]
    }
   ],
   "source": [
    "#Exercise 2, writting a factorial with a for loop instead of recursion.\n",
    "def fact(x):\n",
    "    n = list(range(1,x+1,1))\n",
    "    n.reverse()\n",
    "    s = 1\n",
    "    for i in n:\n",
    "        s = s*i\n",
    "    return s\n",
    "\n",
    "for i in range(0,5,1):\n",
    "    a = fact(i)\n",
    "    b = factorial(i)\n",
    "    if a==b:\n",
    "        print('Good')\n",
    "    else:\n",
    "        print('The value of {} did not work, re-check'.format(i))\n"
   ]
  },
  {
   "cell_type": "code",
   "execution_count": 48,
   "metadata": {},
   "outputs": [
    {
     "name": "stdout",
     "output_type": "stream",
     "text": [
      "0.2831\n"
     ]
    },
    {
     "data": {
      "text/plain": [
       "0.2830985211799999"
      ]
     },
     "execution_count": 48,
     "metadata": {},
     "output_type": "execute_result"
    }
   ],
   "source": [
    "#Exercise #3\n",
    "#Section 8.4 Example #2\n",
    "#part a\n",
    "parta = binomial(6,3,0.59)\n",
    "print(parta)\n",
    "partaa = (0.59**3)*(0.41**3)*comb(6,3)\n",
    "partaa"
   ]
  },
  {
   "cell_type": "code",
   "execution_count": 53,
   "metadata": {},
   "outputs": [
    {
     "name": "stdout",
     "output_type": "stream",
     "text": [
      "0.0048\n"
     ]
    }
   ],
   "source": [
    "#partb\n",
    "x = binomial(6,0,0.59)\n",
    "print(x)"
   ]
  },
  {
   "cell_type": "code",
   "execution_count": 2,
   "metadata": {},
   "outputs": [
    {
     "data": {
      "text/plain": [
       "6"
      ]
     },
     "execution_count": 2,
     "metadata": {},
     "output_type": "execute_result"
    }
   ],
   "source": [
    "comb(4,2)"
   ]
  },
  {
   "cell_type": "code",
   "execution_count": null,
   "metadata": {},
   "outputs": [],
   "source": []
  },
  {
   "cell_type": "code",
   "execution_count": null,
   "metadata": {},
   "outputs": [],
   "source": []
  }
 ],
 "metadata": {
  "kernelspec": {
   "display_name": "Python 3",
   "language": "python",
   "name": "python3"
  },
  "language_info": {
   "codemirror_mode": {
    "name": "ipython",
    "version": 3
   },
   "file_extension": ".py",
   "mimetype": "text/x-python",
   "name": "python",
   "nbconvert_exporter": "python",
   "pygments_lexer": "ipython3",
   "version": "3.7.3"
  }
 },
 "nbformat": 4,
 "nbformat_minor": 2
}
