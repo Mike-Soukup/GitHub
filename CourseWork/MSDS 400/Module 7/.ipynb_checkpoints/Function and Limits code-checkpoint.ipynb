{
 "cells": [
  {
   "cell_type": "code",
   "execution_count": 3,
   "metadata": {},
   "outputs": [],
   "source": [
    "import matplotlib.pyplot\n",
    "from matplotlib.pyplot import *\n",
    "import numpy\n",
    "from numpy import arange\n",
    "\n"
   ]
  },
  {
   "cell_type": "code",
   "execution_count": 19,
   "metadata": {},
   "outputs": [],
   "source": [
    "def f(x):\n",
    "    return (-3/20)*x**2 + 6*x + 20\n",
    "def f_prime(x):\n",
    "    return (-3/15)*x + 6\n"
   ]
  },
  {
   "cell_type": "code",
   "execution_count": 27,
   "metadata": {},
   "outputs": [
    {
     "data": {
      "image/png": "[encoded data removed]",
      "text/plain": [
       "<Figure size 432x288 with 1 Axes>"
      ]
     },
     "metadata": {
      "needs_background": "light"
     },
     "output_type": "display_data"
    }
   ],
   "source": [
    "x = arange(0,30,0.1)\n",
    "y = f(x)\n",
    "y_prime = f_prime(x)\n",
    "figure()\n",
    "xlim(0,30)\n",
    "ylim(0,1000)\n",
    "hlines(0,0,30)\n",
    "vlines(0,0,50)\n",
    "plot(x,y,'b')\n",
    "plot(x,y_prime,'r')\n",
    "title(\"f(x) & f'(x)\")\n",
    "legend(['f(x)',\"f_prime(x)\"])\n",
    "xlabel('x-axis')\n",
    "ylabel('y-axis')\n",
    "show()"
   ]
  },
  {
   "cell_type": "markdown",
   "metadata": {},
   "source": [
    "# My code for determining limit as x -> n"
   ]
  },
  {
   "cell_type": "code",
   "execution_count": 17,
   "metadata": {},
   "outputs": [
    {
     "data": {
      "image/png": "[encoded data removed]",
      "text/plain": [
       "<Figure size 432x288 with 1 Axes>"
      ]
     },
     "metadata": {
      "needs_background": "light"
     },
     "output_type": "display_data"
    },
    {
     "name": "stdout",
     "output_type": "stream",
     "text": [
      "        From the Left                 From the Right        \n",
      "x = 24.966 f(x) =   623.30116   x = 25.034 f(x) =   626.70116  \n",
      "x = 24.967 f(x) =   623.35109   x = 25.033 f(x) =   626.65109  \n",
      "x = 24.968 f(x) =   623.40102   x = 25.032 f(x) =   626.60102  \n",
      "x = 24.969 f(x) =   623.45096   x = 25.031 f(x) =   626.55096  \n",
      "x = 24.97  f(x) =   623.5009    x = 25.03  f(x) =   626.5009   \n",
      "x = 24.971 f(x) =   623.55084   x = 25.029 f(x) =   626.45084  \n",
      "x = 24.972 f(x) =   623.60078   x = 25.028 f(x) =   626.40078  \n",
      "x = 24.973 f(x) =   623.65073   x = 25.027 f(x) =   626.35073  \n",
      "x = 24.974 f(x) =   623.70068   x = 25.026 f(x) =   626.30068  \n",
      "x = 24.975 f(x) =   623.75063   x = 25.025 f(x) =   626.25062  \n"
     ]
    }
   ],
   "source": [
    "import numpy\n",
    "from numpy import *\n",
    "import matplotlib.pyplot\n",
    "from matplotlib.pyplot import *\n",
    "import math\n",
    "\n",
    "def f(x):\n",
    "    out = x**2\n",
    "    return out\n",
    "\n",
    "def gen(lim):\n",
    "    '''Feed in the numerical/non-infinity limit. Then this function will show convergence.'''\n",
    "    x_r_start = lim + 3\n",
    "    x_l_start = lim - 3\n",
    "    \n",
    "    y_r = []\n",
    "    y_l = []\n",
    "    \n",
    "    if lim > 0:\n",
    "        x_r = arange(x_r_start,1.001*lim,-0.001)\n",
    "        x_l = arange(x_l_start,0.999*lim,0.001)\n",
    "        \n",
    "        for i in range(len(x_r)):\n",
    "            xx_r = x_r[i]\n",
    "            y_r = y_r + [f(xx_r)]\n",
    "        for i in range(len(x_l)):\n",
    "            xx_l = x_l[i]\n",
    "            y_l = y_l + [f(xx_l)]\n",
    "    \n",
    "    \n",
    "        figure()\n",
    "        xmax = max(x_r) + 0.5\n",
    "        xmin = min(x_l) - 0.5\n",
    "        ymax = max(y_r) + 0.5\n",
    "        ymin = min(y_l) - 0.5\n",
    "        #xlim(xmin,xmax)\n",
    "        #ylim(ymin,ymax)\n",
    "    \n",
    "        plot(x_r,y_r,color = 'b')\n",
    "        plot(x_l,y_l,color = 'r')\n",
    "        #scatter(lim,f(lim),c = 'k',s = 40)\n",
    "    \n",
    "        title('Limit as f(x) approaches {}'.format(lim))\n",
    "        xlabel('x-axis')\n",
    "        ylabel('y-axis')\n",
    "        show()\n",
    "    \n",
    "        print('{:^30}{:^30}'.format('From the Left','From the Right'))\n",
    "\n",
    "        for i in arange(-10,0):\n",
    "            r = x_r[i]\n",
    "            l = x_l[i]\n",
    "            f_r = f(r)\n",
    "            f_l = f(l)\n",
    "            print('x = {:<6} f(x) = {:^13} x = {:<6} f(x) = {:^13}'.format(round(l,4),round(f_l,5),round(r,4),round(f_r,5)))\n",
    "        \n",
    "\n",
    "    elif lim == 0:\n",
    "        x_r = arange(x_r_start,1.001*lim,-0.001)\n",
    "        x_l = arange(x_l_start,0.999*lim,0.001)\n",
    "        \n",
    "        for i in range(len(x_r)):\n",
    "            xx_r = x_r[i]\n",
    "            y_r = y_r + [f(xx_r)]\n",
    "        for i in range(len(x_l)):\n",
    "            xx_l = x_l[i]\n",
    "            y_l = y_l + [f(xx_l)]\n",
    "\n",
    "\n",
    "        figure()\n",
    "        xmax = max(x_r) + 0.5\n",
    "        xmin = min(x_l) - 0.5\n",
    "        ymax = max(y_r) + 0.5\n",
    "        ymin = min(y_l) - 0.5\n",
    "        xlim(xmin,xmax)\n",
    "        ylim(ymin,ymax)\n",
    "\n",
    "        plot(x_r,y_r,color = 'b')\n",
    "        plot(x_l,y_l,color = 'r')\n",
    "        #scatter(lim,f(lim),c = 'k',s = 40)\n",
    "\n",
    "        title('Limit as f(x) approaches {}'.format(lim))\n",
    "        xlabel('x-axis')\n",
    "        ylabel('y-axis')\n",
    "        show()\n",
    "\n",
    "        print('{:^30}{:^30}'.format('From the Left','From the Right'))\n",
    "\n",
    "        for i in arange(-10,0):\n",
    "            r = x_r[i]\n",
    "            l = x_l[i]\n",
    "            f_r = f(r)\n",
    "            f_l = f(l)\n",
    "            print('x = {:<6} f(x) = {:^13} x = {:<6} f(x) = {:^13}'.format(round(l,4),round(f_l,5),round(r,4),round(f_r,5)))\n",
    "        \n",
    "\n",
    "    else:\n",
    "        x_r = arange(x_r_start,0.999*lim,-0.001)\n",
    "        x_l = arange(x_l_start,1.001*lim,0.001)\n",
    "        \n",
    "        for i in range(len(x_r)):\n",
    "            xx_r = x_r[i]\n",
    "            y_r = y_r + [f(xx_r)]\n",
    "        for i in range(len(x_l)):\n",
    "            xx_l = x_l[i]\n",
    "            y_l = y_l + [f(xx_l)]\n",
    "\n",
    "        figure()\n",
    "        xmax = max(x_r) + 0.5\n",
    "        xmin = min(x_l) - 0.5\n",
    "        ymax = max(y_r) + 0.5\n",
    "        ymin = min(y_l) - 0.5\n",
    "        xlim(xmin,xmax)\n",
    "        ylim(ymin,ymax)\n",
    "\n",
    "        plot(x_r,y_r,color = 'b')\n",
    "        plot(x_l,y_l,color = 'r')\n",
    "        #scatter(lim,f(lim),c = 'k',s = 40)\n",
    "\n",
    "        title('Limit as f(x) approaches {}'.format(lim))\n",
    "        xlabel('x-axis')\n",
    "        ylabel('y-axis')\n",
    "        show()\n",
    "\n",
    "        print('{:^30}{:^30}'.format('From the Left','From the Right'))\n",
    "\n",
    "        for i in arange(-10,0):\n",
    "            r = x_r[i]\n",
    "            l = x_l[i]\n",
    "            f_r = f(r)\n",
    "            f_l = f(l)\n",
    "            print('x = {:<6} f(x) = {:^13} x = {:<6} f(x) = {:^13}'.format(round(l,4),round(f_l,5),round(r,4),round(f_r,5)))\n",
    "        \n",
    "\n",
    "gen(25)"
   ]
  },
  {
   "cell_type": "markdown",
   "metadata": {},
   "source": [
    "# My code for determining limit as x -> +/- infinity"
   ]
  },
  {
   "cell_type": "code",
   "execution_count": 18,
   "metadata": {},
   "outputs": [
    {
     "name": "stdout",
     "output_type": "stream",
     "text": [
      "Positive or Negative Infinity (enter + or -) : +\n",
      "x and f(x) values as x -> infinity\n",
      "x = 0     f(x) = -1.0                \n",
      "x = 1     f(x) = 0.0                 \n",
      "x = 2     f(x) = 0.333               \n",
      "x = 3     f(x) = 0.5                 \n",
      "x = 4     f(x) = 0.6                 \n",
      "x = 5     f(x) = 0.667               \n",
      "x = 6     f(x) = 0.714               \n",
      "x = 7     f(x) = 0.75                \n",
      "x = 8     f(x) = 0.778               \n",
      "x = 9     f(x) = 0.8                 \n",
      "x = 10    f(x) = 0.818               \n",
      "x = 10000 f(x) = 1.0                 \n",
      "x = 20000 f(x) = 1.0                 \n",
      "x = 30000 f(x) = 1.0                 \n",
      "x = 40000 f(x) = 1.0                 \n",
      "x = 50000 f(x) = 1.0                 \n",
      "x = 60000 f(x) = 1.0                 \n",
      "x = 70000 f(x) = 1.0                 \n",
      "x = 80000 f(x) = 1.0                 \n",
      "x = 90000 f(x) = 1.0                 \n",
      "x = 100000 f(x) = 1.0                 \n"
     ]
    },
    {
     "data": {
      "image/png": "[encoded data removed]",
      "text/plain": [
       "<Figure size 432x288 with 1 Axes>"
      ]
     },
     "metadata": {
      "needs_background": "light"
     },
     "output_type": "display_data"
    }
   ],
   "source": [
    "import numpy\n",
    "from numpy import *\n",
    "import matplotlib.pyplot\n",
    "from matplotlib.pyplot import *\n",
    "import math\n",
    "\n",
    "def f(x):\n",
    "    out = (x-1)/(x+1)\n",
    "    return out\n",
    "\n",
    "def gen_inf():\n",
    "    '''Feed in the infinity limit. Then this function will show approximate the limit.'''\n",
    "    test = input('Positive or Negative Infinity (enter + or -) : ')\n",
    "    \n",
    "    if test == '+':\n",
    "        y_l = []\n",
    "        x_1 = list(range(0,11,1))\n",
    "        x_2 = list(range(10,110,10))\n",
    "        x_3 = list(range(100,1100,100))\n",
    "        x_4 = list(range(1000,11000,1000))\n",
    "        x_5 = list(range(10000,110000,10000))\n",
    "        x_l = x_1 + x_2 + x_3 + x_4 + x_5\n",
    "        \n",
    "        for i in x_l:\n",
    "            y_l = y_l + [f(i)]\n",
    "        \n",
    "        figure()\n",
    "        xmin = min(x_l)-0.5\n",
    "        xmax = max(x_l)+0.5\n",
    "        xlim = (xmin,xmax)\n",
    "        plot(x_l,y_l)\n",
    "        \n",
    "        title('Limit of f(x) as x goes to infinity')\n",
    "        xlabel('x-axis')\n",
    "        ylabel('y-axis')\n",
    "        print('{}'.format('x and f(x) values as x -> infinity'))\n",
    "        \n",
    "        for i in range(0,11):\n",
    "            print('x = {:<5} f(x) = {:<20}'.format(x_l[i],round(f(x_l[i]),3)))\n",
    "        for i in range(-10,0):\n",
    "            print('x = {:<5} f(x) = {:<20}'.format(x_l[i],round(f(x_l[i]),3)))\n",
    "    else:\n",
    "        y_r = []\n",
    "        x_1 = list(range(0,-11,-1))\n",
    "        x_2 = list(range(-10,-110,-10))\n",
    "        x_3 = list(range(-100,-1100,-100))\n",
    "        x_4 = list(range(-1000,-11000,-1000))\n",
    "        x_5 = list(range(-10000,-110000,-10000))\n",
    "        x_r = x_1 + x_2 + x_3 + x_4 + x_5\n",
    "        \n",
    "        for i in x_r:\n",
    "            y_r = y_r + [f(i)]\n",
    "        figure()\n",
    "        plot(x_r,y_r)\n",
    "        title('Limit of f(x) as x goes to negative infinity')\n",
    "        xlabel('x-axis')\n",
    "        ylabel('y-axis')\n",
    "        print('{}'.format('x and f(x) values as x -> negative inifity:'))\n",
    "        \n",
    "        for i in range(0,11):\n",
    "            print('x = {:<5} f(x) = {:<20}'.format(x_r[i],round(f(x_r[i]),3)))\n",
    "        for i in range(-10,0):\n",
    "            print('x = {:<5} f(x) = {:<20}'.format(x_r[i],round(f(x_r[i]),3)))\n",
    "\n",
    "gen_inf()"
   ]
  },
  {
   "cell_type": "code",
   "execution_count": null,
   "metadata": {},
   "outputs": [],
   "source": []
  }
 ],
 "metadata": {
  "kernelspec": {
   "display_name": "Python 3",
   "language": "python",
   "name": "python3"
  },
  "language_info": {
   "codemirror_mode": {
    "name": "ipython",
    "version": 3
   },
   "file_extension": ".py",
   "mimetype": "text/x-python",
   "name": "python",
   "nbconvert_exporter": "python",
   "pygments_lexer": "ipython3",
   "version": "3.7.3"
  }
 },
 "nbformat": 4,
 "nbformat_minor": 2
}
