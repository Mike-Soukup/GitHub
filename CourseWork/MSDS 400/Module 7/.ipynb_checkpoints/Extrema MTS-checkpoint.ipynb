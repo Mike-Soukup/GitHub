{
 "cells": [
  {
   "cell_type": "code",
   "execution_count": 1,
   "metadata": {},
   "outputs": [],
   "source": [
    "import numpy\n",
    "from numpy import *\n",
    "import matplotlib.pyplot\n",
    "from matplotlib.pyplot import *\n",
    "import math"
   ]
  },
  {
   "cell_type": "markdown",
   "metadata": {},
   "source": [
    "# My Code for determining limit as x -> n"
   ]
  },
  {
   "cell_type": "code",
   "execution_count": 2,
   "metadata": {},
   "outputs": [
    {
     "data": {
      "image/png": "[encoded data removed]",
      "text/plain": [
       "<Figure size 432x288 with 1 Axes>"
      ]
     },
     "metadata": {
      "needs_background": "light"
     },
     "output_type": "display_data"
    },
    {
     "name": "stdout",
     "output_type": "stream",
     "text": [
      "        From the Left                 From the Right        \n",
      "x = 24.966 f(x) =   623.30116   x = 25.034 f(x) =   626.70116  \n",
      "x = 24.967 f(x) =   623.35109   x = 25.033 f(x) =   626.65109  \n",
      "x = 24.968 f(x) =   623.40102   x = 25.032 f(x) =   626.60102  \n",
      "x = 24.969 f(x) =   623.45096   x = 25.031 f(x) =   626.55096  \n",
      "x = 24.97  f(x) =   623.5009    x = 25.03  f(x) =   626.5009   \n",
      "x = 24.971 f(x) =   623.55084   x = 25.029 f(x) =   626.45084  \n",
      "x = 24.972 f(x) =   623.60078   x = 25.028 f(x) =   626.40078  \n",
      "x = 24.973 f(x) =   623.65073   x = 25.027 f(x) =   626.35073  \n",
      "x = 24.974 f(x) =   623.70068   x = 25.026 f(x) =   626.30068  \n",
      "x = 24.975 f(x) =   623.75063   x = 25.025 f(x) =   626.25062  \n"
     ]
    }
   ],
   "source": [
    "def f(x):\n",
    "    out = x**2\n",
    "    return out\n",
    "\n",
    "def gen(lim):\n",
    "    '''Feed in the numerical/non-infinity limit. Then this function will show convergence.'''\n",
    "    x_r_start = lim + 3\n",
    "    x_l_start = lim - 3\n",
    "    \n",
    "    y_r = []\n",
    "    y_l = []\n",
    "    \n",
    "    if lim > 0:\n",
    "        x_r = arange(x_r_start,1.001*lim,-0.001)\n",
    "        x_l = arange(x_l_start,0.999*lim,0.001)\n",
    "        \n",
    "        for i in range(len(x_r)):\n",
    "            xx_r = x_r[i]\n",
    "            y_r = y_r + [f(xx_r)]\n",
    "        for i in range(len(x_l)):\n",
    "            xx_l = x_l[i]\n",
    "            y_l = y_l + [f(xx_l)]\n",
    "    \n",
    "    \n",
    "        figure()\n",
    "        xmax = max(x_r) + 0.5\n",
    "        xmin = min(x_l) - 0.5\n",
    "        ymax = max(y_r) + 0.5\n",
    "        ymin = min(y_l) - 0.5\n",
    "        #xlim(xmin,xmax)\n",
    "        #ylim(ymin,ymax)\n",
    "    \n",
    "        plot(x_r,y_r,color = 'b')\n",
    "        plot(x_l,y_l,color = 'r')\n",
    "        #scatter(lim,f(lim),c = 'k',s = 40)\n",
    "    \n",
    "        title('Limit as f(x) approaches {}'.format(lim))\n",
    "        xlabel('x-axis')\n",
    "        ylabel('y-axis')\n",
    "        show()\n",
    "    \n",
    "        print('{:^30}{:^30}'.format('From the Left','From the Right'))\n",
    "\n",
    "        for i in arange(-10,0):\n",
    "            r = x_r[i]\n",
    "            l = x_l[i]\n",
    "            f_r = f(r)\n",
    "            f_l = f(l)\n",
    "            print('x = {:<6} f(x) = {:^13} x = {:<6} f(x) = {:^13}'.format(round(l,4),round(f_l,5),round(r,4),round(f_r,5)))\n",
    "        \n",
    "\n",
    "    elif lim == 0:\n",
    "        x_r = arange(x_r_start,1.001*lim,-0.001)\n",
    "        x_l = arange(x_l_start,0.999*lim,0.001)\n",
    "        \n",
    "        for i in range(len(x_r)):\n",
    "            xx_r = x_r[i]\n",
    "            y_r = y_r + [f(xx_r)]\n",
    "        for i in range(len(x_l)):\n",
    "            xx_l = x_l[i]\n",
    "            y_l = y_l + [f(xx_l)]\n",
    "\n",
    "\n",
    "        figure()\n",
    "        xmax = max(x_r) + 0.5\n",
    "        xmin = min(x_l) - 0.5\n",
    "        ymax = max(y_r) + 0.5\n",
    "        ymin = min(y_l) - 0.5\n",
    "        xlim(xmin,xmax)\n",
    "        ylim(ymin,ymax)\n",
    "\n",
    "        plot(x_r,y_r,color = 'b')\n",
    "        plot(x_l,y_l,color = 'r')\n",
    "        #scatter(lim,f(lim),c = 'k',s = 40)\n",
    "\n",
    "        title('Limit as f(x) approaches {}'.format(lim))\n",
    "        xlabel('x-axis')\n",
    "        ylabel('y-axis')\n",
    "        show()\n",
    "\n",
    "        print('{:^30}{:^30}'.format('From the Left','From the Right'))\n",
    "\n",
    "        for i in arange(-10,0):\n",
    "            r = x_r[i]\n",
    "            l = x_l[i]\n",
    "            f_r = f(r)\n",
    "            f_l = f(l)\n",
    "            print('x = {:<6} f(x) = {:^13} x = {:<6} f(x) = {:^13}'.format(round(l,4),round(f_l,5),round(r,4),round(f_r,5)))\n",
    "        \n",
    "\n",
    "    else:\n",
    "        x_r = arange(x_r_start,0.999*lim,-0.001)\n",
    "        x_l = arange(x_l_start,1.001*lim,0.001)\n",
    "        \n",
    "        for i in range(len(x_r)):\n",
    "            xx_r = x_r[i]\n",
    "            y_r = y_r + [f(xx_r)]\n",
    "        for i in range(len(x_l)):\n",
    "            xx_l = x_l[i]\n",
    "            y_l = y_l + [f(xx_l)]\n",
    "\n",
    "        figure()\n",
    "        xmax = max(x_r) + 0.5\n",
    "        xmin = min(x_l) - 0.5\n",
    "        ymax = max(y_r) + 0.5\n",
    "        ymin = min(y_l) - 0.5\n",
    "        xlim(xmin,xmax)\n",
    "        ylim(ymin,ymax)\n",
    "\n",
    "        plot(x_r,y_r,color = 'b')\n",
    "        plot(x_l,y_l,color = 'r')\n",
    "        #scatter(lim,f(lim),c = 'k',s = 40)\n",
    "\n",
    "        title('Limit as f(x) approaches {}'.format(lim))\n",
    "        xlabel('x-axis')\n",
    "        ylabel('y-axis')\n",
    "        show()\n",
    "\n",
    "        print('{:^30}{:^30}'.format('From the Left','From the Right'))\n",
    "\n",
    "        for i in arange(-10,0):\n",
    "            r = x_r[i]\n",
    "            l = x_l[i]\n",
    "            f_r = f(r)\n",
    "            f_l = f(l)\n",
    "            print('x = {:<6} f(x) = {:^13} x = {:<6} f(x) = {:^13}'.format(round(l,4),round(f_l,5),round(r,4),round(f_r,5)))\n",
    "        \n",
    "\n",
    "gen(25)"
   ]
  },
  {
   "cell_type": "markdown",
   "metadata": {},
   "source": [
    "# My code for determining limit as x -> +/- inifinity¶"
   ]
  },
  {
   "cell_type": "code",
   "execution_count": 3,
   "metadata": {},
   "outputs": [
    {
     "name": "stdout",
     "output_type": "stream",
     "text": [
      "Positive or Negative Infinity (enter + or -) : +\n",
      "x and f(x) values as x -> infinity\n",
      "x = 1     f(x) = 0.0                 \n",
      "x = 2     f(x) = 0.173               \n",
      "x = 3     f(x) = 0.122               \n",
      "x = 4     f(x) = 0.087               \n",
      "x = 5     f(x) = 0.064               \n",
      "x = 6     f(x) = 0.05                \n",
      "x = 7     f(x) = 0.04                \n",
      "x = 8     f(x) = 0.032               \n",
      "x = 9     f(x) = 0.027               \n",
      "x = 10    f(x) = 0.023               \n",
      "x = 10    f(x) = 0.023               \n",
      "x = 10000 f(x) = 0.0                 \n",
      "x = 20000 f(x) = 0.0                 \n",
      "x = 30000 f(x) = 0.0                 \n",
      "x = 40000 f(x) = 0.0                 \n",
      "x = 50000 f(x) = 0.0                 \n",
      "x = 60000 f(x) = 0.0                 \n",
      "x = 70000 f(x) = 0.0                 \n",
      "x = 80000 f(x) = 0.0                 \n",
      "x = 90000 f(x) = 0.0                 \n",
      "x = 100000 f(x) = 0.0                 \n"
     ]
    },
    {
     "data": {
      "image/png": "[encoded data removed]",
      "text/plain": [
       "<Figure size 432x288 with 1 Axes>"
      ]
     },
     "metadata": {
      "needs_background": "light"
     },
     "output_type": "display_data"
    }
   ],
   "source": [
    "def f(x):\n",
    "    out = log(x)/x**2\n",
    "    return out\n",
    "\n",
    "def gen_inf():\n",
    "    '''Feed in the infinity limit. Then this function will show approximate the limit.'''\n",
    "    test = input('Positive or Negative Infinity (enter + or -) : ')\n",
    "    \n",
    "    if test == '+':\n",
    "        y_l = []\n",
    "        x_1 = list(range(1,11,1))\n",
    "        x_2 = list(range(10,110,10))\n",
    "        x_3 = list(range(100,1100,100))\n",
    "        x_4 = list(range(1000,11000,1000))\n",
    "        x_5 = list(range(10000,110000,10000))\n",
    "        x_l = x_1 + x_2 + x_3 + x_4 + x_5\n",
    "        \n",
    "        for i in x_l:\n",
    "            y_l = y_l + [f(i)]\n",
    "        \n",
    "        figure()\n",
    "        xmin = min(x_l)-0.5\n",
    "        xmax = max(x_l)+0.5\n",
    "        xlim = (xmin,xmax)\n",
    "        plot(x_l,y_l)\n",
    "        \n",
    "        title('Limit of f(x) as x goes to infinity')\n",
    "        xlabel('x-axis')\n",
    "        ylabel('y-axis')\n",
    "        print('{}'.format('x and f(x) values as x -> infinity'))\n",
    "        \n",
    "        for i in range(0,11):\n",
    "            print('x = {:<5} f(x) = {:<20}'.format(x_l[i],round(f(x_l[i]),3)))\n",
    "        for i in range(-10,0):\n",
    "            print('x = {:<5} f(x) = {:<20}'.format(x_l[i],round(f(x_l[i]),3)))\n",
    "    else:\n",
    "        y_r = []\n",
    "        x_1 = list(range(-1,-11,-1))\n",
    "        x_2 = list(range(-10,-110,-10))\n",
    "        x_3 = list(range(-100,-1100,-100))\n",
    "        x_4 = list(range(-1000,-11000,-1000))\n",
    "        x_5 = list(range(-10000,-110000,-10000))\n",
    "        x_r = x_1 + x_2 + x_3 + x_4 + x_5\n",
    "        \n",
    "        for i in x_r:\n",
    "            y_r = y_r + [f(i)]\n",
    "        figure()\n",
    "        plot(x_r,y_r)\n",
    "        title('Limit of f(x) as x goes to negative infinity')\n",
    "        xlabel('x-axis')\n",
    "        ylabel('y-axis')\n",
    "        print('{}'.format('x and f(x) values as x -> negative inifity:'))\n",
    "        \n",
    "        for i in range(0,11):\n",
    "            print('x = {:<5} f(x) = {:<20}'.format(x_r[i],round(f(x_r[i]),3)))\n",
    "        for i in range(-10,0):\n",
    "            print('x = {:<5} f(x) = {:<20}'.format(x_r[i],round(f(x_r[i]),3)))\n",
    "\n",
    "gen_inf()"
   ]
  },
  {
   "cell_type": "markdown",
   "metadata": {},
   "source": [
    "# Quadratic Formula"
   ]
  },
  {
   "cell_type": "code",
   "execution_count": 4,
   "metadata": {},
   "outputs": [],
   "source": [
    "import math\n",
    "\n",
    "def quad_formula(a,b,c):\n",
    "    x1 = (-b + math.sqrt(b**2 - 4*a*c))/(2*a)\n",
    "    x2 = (-b - math.sqrt((b**2)-(4*a*c)))/(2*a)\n",
    "    return x1, x2\n"
   ]
  },
  {
   "cell_type": "code",
   "execution_count": 6,
   "metadata": {},
   "outputs": [
    {
     "data": {
      "text/plain": [
       "(-8.940084184781295, 7.690084184781295)"
      ]
     },
     "execution_count": 6,
     "metadata": {},
     "output_type": "execute_result"
    }
   ],
   "source": [
    "quad_formula(-16,-20,1100)"
   ]
  },
  {
   "cell_type": "markdown",
   "metadata": {},
   "source": [
    "# Generic Graph Function"
   ]
  },
  {
   "cell_type": "code",
   "execution_count": 16,
   "metadata": {},
   "outputs": [
    {
     "data": {
      "image/png": "[encoded data removed]",
      "text/plain": [
       "<Figure size 432x288 with 1 Axes>"
      ]
     },
     "metadata": {
      "needs_background": "light"
     },
     "output_type": "display_data"
    },
    {
     "name": "stdout",
     "output_type": "stream",
     "text": [
      "End point a: 2.0\n"
     ]
    },
    {
     "ename": "ValueError",
     "evalue": "math domain error",
     "output_type": "error",
     "traceback": [
      "\u001b[0;31m---------------------------------------------------------------------------\u001b[0m",
      "\u001b[0;31mValueError\u001b[0m                                Traceback (most recent call last)",
      "\u001b[0;32m<ipython-input-16-dcc4b07ac6a9>\u001b[0m in \u001b[0;36m<module>\u001b[0;34m\u001b[0m\n\u001b[1;32m     23\u001b[0m \u001b[0ma\u001b[0m \u001b[0;34m=\u001b[0m \u001b[0mf\u001b[0m\u001b[0;34m(\u001b[0m\u001b[0;36m0\u001b[0m\u001b[0;34m)\u001b[0m\u001b[0;34m\u001b[0m\u001b[0;34m\u001b[0m\u001b[0m\n\u001b[1;32m     24\u001b[0m \u001b[0mprint\u001b[0m\u001b[0;34m(\u001b[0m\u001b[0;34m'End point a: {}'\u001b[0m\u001b[0;34m.\u001b[0m\u001b[0mformat\u001b[0m\u001b[0;34m(\u001b[0m\u001b[0ma\u001b[0m\u001b[0;34m)\u001b[0m\u001b[0;34m)\u001b[0m\u001b[0;34m\u001b[0m\u001b[0;34m\u001b[0m\u001b[0m\n\u001b[0;32m---> 25\u001b[0;31m \u001b[0mb\u001b[0m \u001b[0;34m=\u001b[0m \u001b[0mf\u001b[0m\u001b[0;34m(\u001b[0m\u001b[0;36m10\u001b[0m\u001b[0;34m)\u001b[0m\u001b[0;34m\u001b[0m\u001b[0;34m\u001b[0m\u001b[0m\n\u001b[0m\u001b[1;32m     26\u001b[0m \u001b[0mprint\u001b[0m\u001b[0;34m(\u001b[0m\u001b[0;34m'End point b: {}'\u001b[0m\u001b[0;34m.\u001b[0m\u001b[0mformat\u001b[0m\u001b[0;34m(\u001b[0m\u001b[0mb\u001b[0m\u001b[0;34m)\u001b[0m\u001b[0;34m)\u001b[0m\u001b[0;34m\u001b[0m\u001b[0;34m\u001b[0m\u001b[0m\n\u001b[1;32m     27\u001b[0m \u001b[0mcrit_point_1\u001b[0m \u001b[0;34m=\u001b[0m \u001b[0mf\u001b[0m\u001b[0;34m(\u001b[0m\u001b[0;36m6.67\u001b[0m\u001b[0;34m)\u001b[0m\u001b[0;34m\u001b[0m\u001b[0;34m\u001b[0m\u001b[0m\n",
      "\u001b[0;32m<ipython-input-16-dcc4b07ac6a9>\u001b[0m in \u001b[0;36mf\u001b[0;34m(x)\u001b[0m\n\u001b[1;32m      1\u001b[0m \u001b[0;32mdef\u001b[0m \u001b[0mf\u001b[0m\u001b[0;34m(\u001b[0m\u001b[0mx\u001b[0m\u001b[0;34m)\u001b[0m\u001b[0;34m:\u001b[0m\u001b[0;34m\u001b[0m\u001b[0;34m\u001b[0m\u001b[0m\n\u001b[0;32m----> 2\u001b[0;31m     \u001b[0;32mreturn\u001b[0m \u001b[0mmath\u001b[0m\u001b[0;34m.\u001b[0m\u001b[0msqrt\u001b[0m\u001b[0;34m(\u001b[0m\u001b[0;36m4\u001b[0m\u001b[0;34m-\u001b[0m\u001b[0mx\u001b[0m\u001b[0;34m**\u001b[0m\u001b[0;36m2\u001b[0m\u001b[0;34m)\u001b[0m\u001b[0;34m\u001b[0m\u001b[0;34m\u001b[0m\u001b[0m\n\u001b[0m\u001b[1;32m      3\u001b[0m \u001b[0;34m\u001b[0m\u001b[0m\n\u001b[1;32m      4\u001b[0m \u001b[0;31m#Create Graph Window\u001b[0m\u001b[0;34m\u001b[0m\u001b[0;34m\u001b[0m\u001b[0;34m\u001b[0m\u001b[0m\n\u001b[1;32m      5\u001b[0m \u001b[0mxmin\u001b[0m \u001b[0;34m=\u001b[0m \u001b[0;36m0\u001b[0m\u001b[0;34m\u001b[0m\u001b[0;34m\u001b[0m\u001b[0m\n",
      "\u001b[0;31mValueError\u001b[0m: math domain error"
     ]
    }
   ],
   "source": [
    "def f(x):\n",
    "    return math.sqrt(4-x**2)\n",
    "\n",
    "#Create Graph Window\n",
    "xmin = 0\n",
    "xmax = 2.0\n",
    "ymin = 0\n",
    "ymax = 3\n",
    "\n",
    "#Set up Graph\n",
    "figure()\n",
    "x = arange(xmin,xmax,0.001)\n",
    "y = []\n",
    "for i in x:\n",
    "    a = f(i)\n",
    "    y = y +[a]\n",
    "plot(x,y,'b')\n",
    "title('Graph of Function')\n",
    "hlines(0,xmin,xmax,color = 'k')\n",
    "\n",
    "show()\n",
    "\n",
    "a = f(0)\n",
    "print('End point a: {}'.format(a))\n",
    "b = f(10)\n",
    "print('End point b: {}'.format(b))\n",
    "crit_point_1 = f(6.67)\n",
    "print('Max critical point: {}'.format(crit_point_1))"
   ]
  },
  {
   "cell_type": "markdown",
   "metadata": {},
   "source": [
    "# Find Extrema"
   ]
  },
  {
   "cell_type": "code",
   "execution_count": null,
   "metadata": {},
   "outputs": [],
   "source": [
    "def extrema(a,b,c):\n",
    "    '''For three input values a, b, c, this function will tell you if b is an extrema point, max or min.\n",
    "    Will output Boolean True or False.'''\n",
    "    x = max(a,b,c) \n",
    "    z = min(a,b,c) \n",
    "    epsilon = 0.0000001 \n",
    "    result = False\n",
    "    if abs(b-x) < epsilon:\n",
    "        result = True\n",
    "    if abs(b-z) < epsilon:\n",
    "        result = True\n",
    "    return result\n",
    "\n",
    "def f(x):\n",
    "    y = (-0.002693*x**3)+ (0.03610*x**2) - (0.1003*x) + 1.0645 #################################################################\n",
    "    return y\n",
    "\n",
    "xa = 0              ############################################################################################\n",
    "xb = 10               ############################################################################################\n",
    "\n",
    "n = 1000\n",
    "delta = (xb-xa)/n\n",
    "x = np.arange(xa, xb + delta, delta)\n",
    "y = []\n",
    "for i in x:\n",
    "    y = y + [f(i)]\n",
    "\n",
    "value = [False] \n",
    "value = value*len(x)\n",
    "\n",
    "L = len(x)\n",
    "value[0] = True\n",
    "value[L-1] = True\n",
    "\n",
    "for x_index in range(L-2):\n",
    "    first_x = x[x_index]\n",
    "    second_x = x[x_index + 1]\n",
    "    third_x = x[x_index + 2]  \n",
    "    a = f(first_x)\n",
    "    b = f(second_x)\n",
    "    c = f(third_x)\n",
    "    is_second_x_extrema = extrema(a,b,c)\n",
    "    value[x_index + 1] = is_second_x_extrema \n",
    "\n",
    "max_value = max(y) \n",
    "min_value = min(y) \n",
    "\n",
    "error = 0.0000001\n",
    "figure()\n",
    "for k in range(L):\n",
    "    if value[k] is True:\n",
    "        scatter(x[k],y[k], s = 60, c = 'y')\n",
    "        print('x value : {} y value: {}'.format(x[k],round(y[k],4)))\n",
    "        if abs(max_value - y[k]) < error:\n",
    "            scatter(x[k],y[k],s=60,c='r')\n",
    "            print('Absolue Max: {} @ {}'.format(round(y[k],4),x[k]))\n",
    "        if abs(min_value - y[k]) < error:\n",
    "            scatter(x[k],y[k],s=60,c='b')\n",
    "            print('Absolute Min: {} @ {}'.format(round(y[k],4),x[k]))\n",
    "plot(x,y,c='k')\n",
    "xlabel('x-axis')\n",
    "ylabel('y-axis')\n",
    "title('Plot showing absolute and relative extrema')\n",
    "show()"
   ]
  },
  {
   "cell_type": "markdown",
   "metadata": {},
   "source": [
    "# Finding Extrema for Polynomials"
   ]
  },
  {
   "cell_type": "code",
   "execution_count": null,
   "metadata": {},
   "outputs": [],
   "source": [
    "import matplotlib.pyplot as plt\n",
    "from numpy import poly1d, linspace\n",
    "p = poly1d([3,-4,-12,0,2])\n",
    "g = p.deriv(m=1)\n",
    "q = p.deriv(m=2)\n",
    "print('\\nRoots of First Derivative')\n",
    "print(g.roots)\n",
    "print('\\nRoots of Second Derivative')\n",
    "print(q.roots)\n",
    "cg1, cg2, cg3 = g.roots\n",
    "cq1, cq2 = q.roots\n",
    "\n",
    "x = linspace(-2,3,1001)\n",
    "y = p(x)\n",
    "y_g = g(x)\n",
    "y_q = q(x)\n",
    "y_0 = 0*x\n",
    "\n",
    "print('\\n First Derivative Critical Value 1: x = {}, f(x) = {}'.format(cg1,p(cg1)))\n",
    "print('\\n First Derivative Critical Value 2: x = {}, f(x) = {}'.format(cg2,p(cg2)))\n",
    "print('\\n First Derivative Critical Value 3: x = {}, f(x) = {}'.format(cg3,p(cg3)))\n",
    "\n",
    "print('\\n Second Derivative Critical Value 1: x = {}, f(x) = {}'.format(cq1,p(cq1)))\n",
    "print('\\n Second Derivative Critical Value 2: x = {}, f(x) = {}'.format(cq2,p(cq2)))\n",
    "\n",
    "print('\\n',p)\n",
    "plt.figure()\n",
    "plt.plot(x, y, color = 'b', label='y=p(x)')\n",
    "plt.plot(x, y_g, color = 'r', label = \"y=p'(x)\")\n",
    "plt.plot(x, y_q, color = 'g', label = \"y=p''(x)\")\n",
    "plt.legend(loc = 'best')\n",
    "\n",
    "plt.plot(x,y_0, color = 'k')\n",
    "plt.xlabel('x-axis')\n",
    "plt.ylabel('y-axis')\n",
    "plt.title('Plot showing function, first, and second derivative')\n",
    "plt.show()"
   ]
  },
  {
   "cell_type": "code",
   "execution_count": null,
   "metadata": {},
   "outputs": [],
   "source": []
  }
 ],
 "metadata": {
  "kernelspec": {
   "display_name": "Python 3",
   "language": "python",
   "name": "python3"
  },
  "language_info": {
   "codemirror_mode": {
    "name": "ipython",
    "version": 3
   },
   "file_extension": ".py",
   "mimetype": "text/x-python",
   "name": "python",
   "nbconvert_exporter": "python",
   "pygments_lexer": "ipython3",
   "version": "3.7.3"
  }
 },
 "nbformat": 4,
 "nbformat_minor": 2
}
