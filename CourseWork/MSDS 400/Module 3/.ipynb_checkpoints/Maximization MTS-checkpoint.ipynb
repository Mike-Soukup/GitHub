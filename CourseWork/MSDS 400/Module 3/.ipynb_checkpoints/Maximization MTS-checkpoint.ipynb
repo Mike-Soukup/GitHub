{
 "cells": [
  {
   "cell_type": "code",
   "execution_count": 9,
   "metadata": {},
   "outputs": [
    {
     "name": "stdout",
     "output_type": "stream",
     "text": [
      "Scipy Optimize Optimal value: -3300.0 \n",
      " x1, x2, x3, x4 : [240.  60.   0.   0.]\n",
      "\n",
      "\n"
     ]
    }
   ],
   "source": [
    "from scipy.optimize import linprog\n",
    "\n",
    "#Coefficients of the objective function\n",
    "z = [-10,-15,-10,-5]\n",
    "\n",
    "#Coefficients of left hand side of inequalities\n",
    "lhs = [[1,1,1,1],[1,2,3,1]]\n",
    "\n",
    "#Coefficients of right hand side of inequalities\n",
    "rhs = [[300],[360]]\n",
    "\n",
    "#Set bounds for the variables\n",
    "x1_bounds = (0,None)\n",
    "x2_bounds = (0,None)\n",
    "x3_bounds = (0,None)\n",
    "x4_bounds = (0,None)\n",
    "\n",
    "method = 'simplex'\n",
    "\n",
    "res = linprog(c=z,A_ub=lhs,b_ub=rhs,bounds=(x1_bounds,x2_bounds,x3_bounds,x4_bounds))\n",
    "# Print optimal values of x1, x2, x3 and x4 \n",
    "print('Scipy Optimize Optimal value:', res.fun, '\\n x1, x2, x3, x4 :', res.x)\n",
    "print('\\n')"
   ]
  },
  {
   "cell_type": "code",
   "execution_count": 13,
   "metadata": {},
   "outputs": [
    {
     "name": "stdout",
     "output_type": "stream",
     "text": [
      "Scipy Max Profit Value: -3500.0 \n",
      " x1, x2, x3 : [ 0. 20.  0.]\n"
     ]
    }
   ],
   "source": [
    "from scipy.optimize import linprog\n",
    "\n",
    "z = [-225,-175,-100]\n",
    "\n",
    "lhs = [[3,1,3],[24,8,0],[8,2,4],[75,50,30]]\n",
    "\n",
    "rhs = [[100],[300],[200],[1000]]\n",
    "\n",
    "x1_bounds = (0,None)\n",
    "x2_bounds = (0,None)\n",
    "x3_bounds = (0,None)\n",
    "\n",
    "method = 'simplex'\n",
    "\n",
    "res = linprog(c=z,A_ub=lhs,b_ub=rhs,bounds=(x1_bounds,x2_bounds,x3_bounds))\n",
    "#Print optimal values of x1, x2, and x3\n",
    "print('Scipy Max Profit Value:',res.fun,'\\n x1, x2, x3 :',res.x)\n",
    "\n"
   ]
  },
  {
   "cell_type": "code",
   "execution_count": null,
   "metadata": {},
   "outputs": [],
   "source": []
  }
 ],
 "metadata": {
  "kernelspec": {
   "display_name": "Python 3",
   "language": "python",
   "name": "python3"
  },
  "language_info": {
   "codemirror_mode": {
    "name": "ipython",
    "version": 3
   },
   "file_extension": ".py",
   "mimetype": "text/x-python",
   "name": "python",
   "nbconvert_exporter": "python",
   "pygments_lexer": "ipython3",
   "version": "3.7.3"
  }
 },
 "nbformat": 4,
 "nbformat_minor": 2
}
