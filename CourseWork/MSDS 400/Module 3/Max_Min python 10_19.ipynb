{
 "cells": [
  {
   "cell_type": "code",
   "execution_count": 1,
   "metadata": {},
   "outputs": [
    {
     "name": "stdout",
     "output_type": "stream",
     "text": [
      "Pulp solutions for x1 , x2: \n",
      "20.0\n",
      "23.0\n",
      "Objective function has a value of 215.0\n"
     ]
    }
   ],
   "source": [
    "from pulp import LpVariable, LpProblem, LpMaximize, LpStatus, value, LpMinimize\n",
    "\n",
    "# declare your variables\n",
    "x1 = LpVariable(\"x1\", 0, None) # y1>=0\n",
    "x2 = LpVariable(\"x2\", 0, None) # y2>=0\n",
    "\n",
    "\n",
    "\n",
    "\n",
    "# defines the problem\n",
    "prob = LpProblem(\"problem\", LpMaximize)\n",
    "\n",
    "# defines the constraints\n",
    "prob += 6*x1 + 6*x2 >= 90\n",
    "prob += 17*x1 - 11*x2 >= 87\n",
    "prob += x1 + x2 <= 43\n",
    "\n",
    "# defines the objective function to maximize\n",
    "prob += 5*x1 + 5*x2\n",
    "\n",
    "# solve the problem\n",
    "status = prob.solve()\n",
    "LpStatus[status]\n",
    "\n",
    "#Calculate value of objective function\n",
    "\n",
    "OF = 5*value(x1) + 5*value(x2)\n",
    "\n",
    "# print the results\n",
    "print(\"Pulp solutions for x1 , x2: \")\n",
    "print(value(x1))\n",
    "print(value(x2))\n",
    "print('Objective function has a value of {}'.format(OF))\n"
   ]
  },
  {
   "cell_type": "code",
   "execution_count": null,
   "metadata": {},
   "outputs": [],
   "source": []
  }
 ],
 "metadata": {
  "kernelspec": {
   "display_name": "Python 3",
   "language": "python",
   "name": "python3"
  },
  "language_info": {
   "codemirror_mode": {
    "name": "ipython",
    "version": 3
   },
   "file_extension": ".py",
   "mimetype": "text/x-python",
   "name": "python",
   "nbconvert_exporter": "python",
   "pygments_lexer": "ipython3",
   "version": "3.7.3"
  }
 },
 "nbformat": 4,
 "nbformat_minor": 2
}
