{
 "cells": [
  {
   "cell_type": "code",
   "execution_count": 1,
   "metadata": {},
   "outputs": [],
   "source": [
    "import numpy\n"
   ]
  },
  {
   "cell_type": "code",
   "execution_count": 8,
   "metadata": {},
   "outputs": [
    {
     "name": "stdout",
     "output_type": "stream",
     "text": [
      "[[1 2 3]\n",
      " [4 5 6]\n",
      " [7 8 9]]\n",
      "[[1 4 7]\n",
      " [2 5 8]\n",
      " [3 6 9]]\n"
     ]
    }
   ],
   "source": [
    "A = numpy.matrix([[1,2,3],[4,5,6],[7,8,9]])\n",
    "B = numpy.transpose(A)\n",
    "print(A)\n",
    "print(B)"
   ]
  },
  {
   "cell_type": "code",
   "execution_count": 9,
   "metadata": {},
   "outputs": [
    {
     "name": "stdout",
     "output_type": "stream",
     "text": [
      "[[ 2  6 -3]\n",
      " [-1  8  7]\n",
      " [ 5  0 -1]]\n"
     ]
    }
   ],
   "source": [
    "N = numpy.matrix([[2,-1,5],[6,8,0],[-3,7,-1]])\n",
    "N_T = numpy.transpose(N)\n",
    "print(N_T)"
   ]
  },
  {
   "cell_type": "code",
   "execution_count": 10,
   "metadata": {},
   "outputs": [
    {
     "name": "stdout",
     "output_type": "stream",
     "text": [
      "[[1 2]\n",
      " [2 1]\n",
      " [4 7]\n",
      " [0 6]]\n"
     ]
    }
   ],
   "source": [
    "B = numpy.matrix([[1,2,4,0],[2,1,7,6]])\n",
    "B_T = numpy.transpose(B)\n",
    "print(B_T)"
   ]
  },
  {
   "cell_type": "code",
   "execution_count": 16,
   "metadata": {},
   "outputs": [
    {
     "name": "stdout",
     "output_type": "stream",
     "text": [
      "Scipy Optimize Optimal value: -5.4 \n",
      " x1, x2: [0.2 1.4]\n",
      "\n",
      "\n"
     ]
    }
   ],
   "source": [
    "# https://docs.scipy.org/doc/scipy-0.15.1/reference/generated/scipy.optimize.linprog.html\n",
    "\n",
    "from scipy.optimize import linprog\n",
    "\n",
    "# coefficients of objective function\n",
    "z = [-6,-3] \n",
    "\n",
    "# coefficients of the left-hand side of the inequalities\n",
    "lhs = [[1,2],[3,1]]\n",
    "\n",
    "# coefficients of the right-hand side of the inequalities\n",
    "rhs = [3, 2]\n",
    "\n",
    "# set the bounds for the variables\n",
    "x1_bounds = (0, None)\n",
    "x2_bounds = (0, None)\n",
    "\n",
    "method='simplex'\n",
    "\n",
    "res = linprog(c=z, A_ub=lhs, b_ub=rhs,  bounds=(x1_bounds,x2_bounds))\n",
    "\n",
    "# See scipy documentation for additional details about scipy.optimize.OptimizeResult \n",
    "# https://docs.scipy.org/doc/scipy-0.15.1/reference/generated/scipy.optimize.linprog.html\n",
    "\n",
    "# Print optimal values of x1, x2, x3 and x4 \n",
    "print('Scipy Optimize Optimal value:', res.fun, '\\n x1, x2:', res.x)\n",
    "print('\\n')"
   ]
  },
  {
   "cell_type": "code",
   "execution_count": 17,
   "metadata": {},
   "outputs": [
    {
     "name": "stdout",
     "output_type": "stream",
     "text": [
      "Scipy Optimize Optimal value: -5.4 \n",
      " x1, x2 : [0.6 1.8]\n",
      "\n",
      "\n"
     ]
    }
   ],
   "source": [
    "# https://docs.scipy.org/doc/scipy-0.15.1/reference/generated/scipy.optimize.linprog.html\n",
    "\n",
    "from scipy.optimize import linprog\n",
    "\n",
    "# coefficients of objective function\n",
    "z = [-3,-2] \n",
    "\n",
    "# coefficients of the left-hand side of the inequalities\n",
    "lhs = [[1,3],[2,1]]\n",
    "\n",
    "# coefficients of the right-hand side of the inequalities\n",
    "rhs = [6, 3]\n",
    "\n",
    "# set the bounds for the variables\n",
    "y1_bounds = (0, None)\n",
    "y2_bounds = (0, None)\n",
    "\n",
    "method='simplex'\n",
    "\n",
    "res = linprog(c=z, A_ub=lhs, b_ub=rhs,  bounds=(y1_bounds,y2_bounds))\n",
    "\n",
    "# See scipy documentation for additional details about scipy.optimize.OptimizeResult \n",
    "# https://docs.scipy.org/doc/scipy-0.15.1/reference/generated/scipy.optimize.linprog.html\n",
    "\n",
    "# Print optimal values of x1, x2, x3 and x4 \n",
    "print('Scipy Optimize Optimal value:', res.fun, '\\n y1, y2 :', res.x)\n",
    "print('\\n')"
   ]
  },
  {
   "cell_type": "code",
   "execution_count": 18,
   "metadata": {},
   "outputs": [
    {
     "data": {
      "text/plain": [
       "5.4"
      ]
     },
     "execution_count": 18,
     "metadata": {},
     "output_type": "execute_result"
    }
   ],
   "source": [
    "27/5\n"
   ]
  },
  {
   "cell_type": "code",
   "execution_count": 1,
   "metadata": {},
   "outputs": [],
   "source": [
    "import numpy\n",
    "from numpy import *\n"
   ]
  },
  {
   "cell_type": "code",
   "execution_count": 5,
   "metadata": {},
   "outputs": [
    {
     "data": {
      "text/plain": [
       "matrix([[1, 2, 3],\n",
       "        [3, 1, 2],\n",
       "        [6, 3, 0]])"
      ]
     },
     "execution_count": 5,
     "metadata": {},
     "output_type": "execute_result"
    }
   ],
   "source": [
    "A = numpy.matrix([[1,3,6],[2,1,3],[3,2,0]])\n",
    "A_T = numpy.transpose(A)\n",
    "A_T\n",
    "\n"
   ]
  },
  {
   "cell_type": "code",
   "execution_count": 48,
   "metadata": {},
   "outputs": [
    {
     "name": "stdout",
     "output_type": "stream",
     "text": [
      "Scipy Optimize Optimal value: 48.0 \n",
      " y1, y2 : [0. 2.]\n",
      "\n",
      " slack variables s1, s2 [6. 0.]\n",
      "\n",
      " Scipy Optimize Status: Optimization terminated successfully\n"
     ]
    }
   ],
   "source": [
    "from scipy.optimize import linprog\n",
    "w = [-5,-24]\n",
    "lhs = [[4,1],[1,4]]\n",
    "rhs = [8,8]\n",
    "y1_bounds = (0,None)\n",
    "y2_bounds = (0,None)\n",
    "\n",
    "method = 'simplex'\n",
    "res = linprog(c=w,A_ub = lhs, b_ub=rhs,bounds = (y1_bounds,y2_bounds))\n",
    "print('Scipy Optimize Optimal value:',-res.fun,'\\n y1, y2 :', res.x)\n",
    "print('\\n slack variables s1, s2', res.slack)\n",
    "\n",
    "if res.status == 0:\n",
    "    out = 'Optimization terminated successfully'\n",
    "elif res.status == 1:\n",
    "    out = 'Iteration limit reached'\n",
    "elif res.status == 2:\n",
    "    out = 'Problem appears to be infeasible'\n",
    "elif res.status == 3:\n",
    "    out = 'Problem appears to be unbounded'\n",
    "elif res.status == 4:\n",
    "    out = 'Serious numerical difficulties encountered'\n",
    "print('\\n Scipy Optimize Status:', out)"
   ]
  },
  {
   "cell_type": "code",
   "execution_count": 67,
   "metadata": {},
   "outputs": [
    {
     "name": "stdout",
     "output_type": "stream",
     "text": [
      "Scipy Optimize Optimal value: 120.0 \n",
      " x1, x2: [2. 0.]\n",
      "\n",
      " slack variables s1, s2 [2. 0. 0.]\n",
      "\n",
      " Scipy Optimize Status: Optimization terminated successfully\n"
     ]
    }
   ],
   "source": [
    "from scipy.optimize import linprog\n",
    "z = [-60,-67]\n",
    "lhs = [[2.5,5],[4.5,3],[5,10]]\n",
    "rhs = [7,9,10]\n",
    "x1_bounds = (0,None)\n",
    "x2_bounds = (0,None)\n",
    "\n",
    "\n",
    "method = 'simplex'\n",
    "res = linprog(c=z,A_ub = lhs, b_ub=rhs,bounds = (x1_bounds,x2_bounds))\n",
    "print('Scipy Optimize Optimal value:',-res.fun,'\\n x1, x2:', res.x)\n",
    "print('\\n slack variables s1, s2', res.slack)\n",
    "\n",
    "if res.status == 0:\n",
    "    out = 'Optimization terminated successfully'\n",
    "elif res.status == 1:\n",
    "    out = 'Iteration limit reached'\n",
    "elif res.status == 2:\n",
    "    out = 'Problem appears to be infeasible'\n",
    "elif res.status == 3:\n",
    "    out = 'Problem appears to be unbounded'\n",
    "elif res.status == 4:\n",
    "    out = 'Serious numerical difficulties encountered'\n",
    "print('\\n Scipy Optimize Status:', out)"
   ]
  },
  {
   "cell_type": "code",
   "execution_count": 68,
   "metadata": {},
   "outputs": [
    {
     "name": "stdout",
     "output_type": "stream",
     "text": [
      "Scipy Optimize Optimal value: 136.20000000000002 \n",
      " y1, y2, y3: [8.1        8.83333333 0.        ]\n",
      "\n",
      " slack variables s1, s2 [0. 0.]\n",
      "\n",
      " Scipy Optimize Status: Optimization terminated successfully\n"
     ]
    }
   ],
   "source": [
    "from scipy.optimize import linprog\n",
    "w = [-7,-9,-10]\n",
    "lhs = [[2.5,4.5,5],[5,3,10]]\n",
    "rhs = [60,67]\n",
    "y1_bounds = (0,None)\n",
    "y2_bounds = (0,None)\n",
    "y3_bounds = (0,None)\n",
    "\n",
    "method = 'simplex'\n",
    "res = linprog(c=w,A_ub = lhs, b_ub=rhs,bounds = (y1_bounds,y2_bounds,y3_bounds))\n",
    "print('Scipy Optimize Optimal value:',-res.fun,'\\n y1, y2, y3:', res.x)\n",
    "print('\\n slack variables s1, s2', res.slack)\n",
    "\n",
    "if res.status == 0:\n",
    "    out = 'Optimization terminated successfully'\n",
    "elif res.status == 1:\n",
    "    out = 'Iteration limit reached'\n",
    "elif res.status == 2:\n",
    "    out = 'Problem appears to be infeasible'\n",
    "elif res.status == 3:\n",
    "    out = 'Problem appears to be unbounded'\n",
    "elif res.status == 4:\n",
    "    out = 'Serious numerical difficulties encountered'\n",
    "print('\\n Scipy Optimize Status:', out)"
   ]
  },
  {
   "cell_type": "code",
   "execution_count": 64,
   "metadata": {},
   "outputs": [
    {
     "data": {
      "text/plain": [
       "-15.0"
      ]
     },
     "execution_count": 64,
     "metadata": {},
     "output_type": "execute_result"
    }
   ],
   "source": [
    "-22.5+(3*2.5)"
   ]
  },
  {
   "cell_type": "code",
   "execution_count": 65,
   "metadata": {},
   "outputs": [
    {
     "data": {
      "text/plain": [
       "-24"
      ]
     },
     "execution_count": 65,
     "metadata": {},
     "output_type": "execute_result"
    }
   ],
   "source": [
    "-45+21\n"
   ]
  },
  {
   "cell_type": "code",
   "execution_count": 73,
   "metadata": {},
   "outputs": [
    {
     "name": "stdout",
     "output_type": "stream",
     "text": [
      "Pulp Solution for y1, y2, & y3\n",
      "1500.0\n",
      "1800.0\n",
      "2700.0\n",
      "Objective function is:  41400.0\n"
     ]
    }
   ],
   "source": [
    "from pulp import LpVariable, LpProblem, LpMaximize, LpStatus, value, LpMinimize\n",
    "#declare your variables\n",
    "y1 = LpVariable('y1',0,None) # y1>=0\n",
    "y2 = LpVariable('y2',0,None) # y2>=0\n",
    "y3 = LpVariable('y3',0,None) # y3>=0\n",
    "#define the problem\n",
    "prob = LpProblem('problem',LpMinimize)\n",
    "\n",
    "#define the constraints\n",
    "prob += -0.75*y1 + 0.25*y2 + 0.25*y3 <= 0\n",
    "prob += y2 - (2/3)*y3 >= 0\n",
    "prob += y1 + y2 + y3 >= 6000\n",
    "#define the objective function\n",
    "prob += 9*y1 + 11*y2 + 3*y3\n",
    "\n",
    "#solve the problem\n",
    "status = prob.solve()\n",
    "LpStatus[status]\n",
    "\n",
    "#Print the results\n",
    "print(\"Pulp Solution for y1, y2, & y3\")\n",
    "print(value(y1))\n",
    "print(value(y2))\n",
    "print(value(y3))\n",
    "print('Objective function is: ', 9*value(y1)+11*value(y2)+3*value(y3))\n",
    "\n",
    "a = value(y1)\n",
    "b = value(y2)\n",
    "c = value(y3)\n",
    "\n",
    "print('\\n %Bluegrass: ', (a/(a+b+c)*100))\n",
    "print('\\n rye')"
   ]
  },
  {
   "cell_type": "code",
   "execution_count": 43,
   "metadata": {},
   "outputs": [
    {
     "data": {
      "text/plain": [
       "matrix([[ 4,  1,  5],\n",
       "        [ 1,  4, 24],\n",
       "        [ 8,  8,  0]])"
      ]
     },
     "execution_count": 43,
     "metadata": {},
     "output_type": "execute_result"
    }
   ],
   "source": []
  },
  {
   "cell_type": "code",
   "execution_count": 55,
   "metadata": {},
   "outputs": [
    {
     "data": {
      "text/plain": [
       "matrix([[ 2.5,  5. ,  7. ],\n",
       "        [ 4.5,  3. ,  9. ],\n",
       "        [ 5. , 10. , 10. ],\n",
       "        [60. , 67. ,  0. ]])"
      ]
     },
     "execution_count": 55,
     "metadata": {},
     "output_type": "execute_result"
    }
   ],
   "source": [
    "A = numpy.matrix([[2.5,4.5,5,60],[5,3,10,67],[7,9,10,0]])\n",
    "A_T = numpy.transpose(A)\n",
    "A_T"
   ]
  },
  {
   "cell_type": "code",
   "execution_count": 58,
   "metadata": {},
   "outputs": [
    {
     "name": "stdout",
     "output_type": "stream",
     "text": [
      "53.0\n"
     ]
    }
   ],
   "source": [
    "print(265/5)\n",
    "\n"
   ]
  },
  {
   "cell_type": "code",
   "execution_count": 70,
   "metadata": {},
   "outputs": [
    {
     "data": {
      "text/plain": [
       "588"
      ]
     },
     "execution_count": 70,
     "metadata": {},
     "output_type": "execute_result"
    }
   ],
   "source": [
    "49*12"
   ]
  },
  {
   "cell_type": "code",
   "execution_count": null,
   "metadata": {},
   "outputs": [],
   "source": []
  }
 ],
 "metadata": {
  "kernelspec": {
   "display_name": "Python 3",
   "language": "python",
   "name": "python3"
  },
  "language_info": {
   "codemirror_mode": {
    "name": "ipython",
    "version": 3
   },
   "file_extension": ".py",
   "mimetype": "text/x-python",
   "name": "python",
   "nbconvert_exporter": "python",
   "pygments_lexer": "ipython3",
   "version": "3.7.3"
  }
 },
 "nbformat": 4,
 "nbformat_minor": 2
}
