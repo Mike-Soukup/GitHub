{
 "cells": [
  {
   "cell_type": "code",
   "execution_count": 1,
   "metadata": {},
   "outputs": [],
   "source": [
    "import matplotlib.pyplot\n",
    "from matplotlib.pyplot import *\n",
    "import numpy\n",
    "from numpy import arange"
   ]
  },
  {
   "cell_type": "code",
   "execution_count": 50,
   "metadata": {},
   "outputs": [
    {
     "data": {
      "image/png": "[encoded data removed]",
      "text/plain": [
       "<Figure size 432x288 with 1 Axes>"
      ]
     },
     "metadata": {
      "needs_background": "light"
     },
     "output_type": "display_data"
    }
   ],
   "source": [
    "x = arange(-30,30.1,0.1)\n",
    "y1 = (-1/15)*x + 2\n",
    "y2 = (-3/2)*x+40\n",
    "w = 120\n",
    "y3 = (-5/4)*x + (1/40)*w\n",
    "figure()\n",
    "xlim(-30,30)\n",
    "ylim(-10,10)\n",
    "xlabel('x-axis')\n",
    "ylabel('y-axis')\n",
    "hlines(0,-30,30,color = 'k')\n",
    "vlines(0,-10,10,color = 'k')\n",
    "grid(True)\n",
    "plot(x,y1,'k-',x,y2,'b-',x,y3,'g--')\n",
    "title('Problem 4')\n",
    "legend(['y >= -1/15x + 2','y >= -3/2x + 40'],loc = 2)\n",
    "\n",
    "show()"
   ]
  },
  {
   "cell_type": "code",
   "execution_count": 27,
   "metadata": {},
   "outputs": [
    {
     "data": {
      "text/plain": [
       "12.25"
      ]
     },
     "execution_count": 27,
     "metadata": {},
     "output_type": "execute_result"
    }
   ],
   "source": [
    "13-(6/8)"
   ]
  },
  {
   "cell_type": "code",
   "execution_count": 28,
   "metadata": {},
   "outputs": [
    {
     "data": {
      "text/plain": [
       "42.0"
      ]
     },
     "execution_count": 28,
     "metadata": {},
     "output_type": "execute_result"
    }
   ],
   "source": [
    "48-(48/8)"
   ]
  },
  {
   "cell_type": "code",
   "execution_count": 30,
   "metadata": {},
   "outputs": [
    {
     "name": "stdout",
     "output_type": "stream",
     "text": [
      "3.4285714285714284 3.4285714285714306\n"
     ]
    }
   ],
   "source": [
    "x = 42.0/12.25\n",
    "y = -13*x+48\n",
    "print(x,y)"
   ]
  },
  {
   "cell_type": "code",
   "execution_count": 42,
   "metadata": {},
   "outputs": [
    {
     "ename": "ValueError",
     "evalue": "Phase 1 of the simplex method failed to find a feasible solution. The pseudo-objective function evaluates to 3.3e-10 which exceeds the required tolerance of 1e-12 for a solution to be considered 'close enough' to zero to be a basic solution. Consider increasing the tolerance to be greater than 3.3e-10. If this tolerance is unacceptably  large the problem may be infeasible.",
     "output_type": "error",
     "traceback": [
      "\u001b[0;31m---------------------------------------------------------------------------\u001b[0m",
      "\u001b[0;31mValueError\u001b[0m                                Traceback (most recent call last)",
      "\u001b[0;32m<ipython-input-42-3a2cab62b2a7>\u001b[0m in \u001b[0;36m<module>\u001b[0;34m\u001b[0m\n\u001b[1;32m      6\u001b[0m \u001b[0mx2_bounds\u001b[0m \u001b[0;34m=\u001b[0m \u001b[0;34m(\u001b[0m\u001b[0;36m0\u001b[0m\u001b[0;34m,\u001b[0m\u001b[0;32mNone\u001b[0m\u001b[0;34m)\u001b[0m\u001b[0;34m\u001b[0m\u001b[0;34m\u001b[0m\u001b[0m\n\u001b[1;32m      7\u001b[0m \u001b[0mmethod\u001b[0m \u001b[0;34m=\u001b[0m \u001b[0;34m'simplex'\u001b[0m\u001b[0;34m\u001b[0m\u001b[0;34m\u001b[0m\u001b[0m\n\u001b[0;32m----> 8\u001b[0;31m \u001b[0mres\u001b[0m \u001b[0;34m=\u001b[0m \u001b[0mlinprog\u001b[0m\u001b[0;34m(\u001b[0m\u001b[0mc\u001b[0m\u001b[0;34m=\u001b[0m\u001b[0mz\u001b[0m\u001b[0;34m,\u001b[0m \u001b[0mA_ub\u001b[0m\u001b[0;34m=\u001b[0m\u001b[0mlhs\u001b[0m\u001b[0;34m,\u001b[0m \u001b[0mb_ub\u001b[0m\u001b[0;34m=\u001b[0m\u001b[0mrhs\u001b[0m\u001b[0;34m,\u001b[0m  \u001b[0mbounds\u001b[0m\u001b[0;34m=\u001b[0m\u001b[0;34m(\u001b[0m\u001b[0mx1_bounds\u001b[0m\u001b[0;34m,\u001b[0m\u001b[0mx2_bounds\u001b[0m\u001b[0;34m)\u001b[0m\u001b[0;34m)\u001b[0m\u001b[0;34m\u001b[0m\u001b[0;34m\u001b[0m\u001b[0m\n\u001b[0m\u001b[1;32m      9\u001b[0m \u001b[0mprint\u001b[0m\u001b[0;34m(\u001b[0m\u001b[0;34m'Scipy Optimize Optimal Value:'\u001b[0m\u001b[0;34m,\u001b[0m \u001b[0;34m-\u001b[0m\u001b[0mres\u001b[0m\u001b[0;34m.\u001b[0m\u001b[0mfun\u001b[0m\u001b[0;34m,\u001b[0m\u001b[0;34m'\\n x, y: '\u001b[0m\u001b[0;34m,\u001b[0m \u001b[0mres\u001b[0m\u001b[0;34m.\u001b[0m\u001b[0mx\u001b[0m\u001b[0;34m)\u001b[0m\u001b[0;34m\u001b[0m\u001b[0;34m\u001b[0m\u001b[0m\n",
      "\u001b[0;32m~/anaconda3/lib/python3.7/site-packages/scipy/optimize/_linprog.py\u001b[0m in \u001b[0;36mlinprog\u001b[0;34m(c, A_ub, b_ub, A_eq, b_eq, bounds, method, callback, options)\u001b[0m\n\u001b[1;32m    476\u001b[0m     x, fun, slack, con, status, message = _postprocess(\n\u001b[1;32m    477\u001b[0m         \u001b[0mx\u001b[0m\u001b[0;34m,\u001b[0m \u001b[0mc_o\u001b[0m\u001b[0;34m,\u001b[0m \u001b[0mA_ub_o\u001b[0m\u001b[0;34m,\u001b[0m \u001b[0mb_ub_o\u001b[0m\u001b[0;34m,\u001b[0m \u001b[0mA_eq_o\u001b[0m\u001b[0;34m,\u001b[0m \u001b[0mb_eq_o\u001b[0m\u001b[0;34m,\u001b[0m \u001b[0mbounds\u001b[0m\u001b[0;34m,\u001b[0m\u001b[0;34m\u001b[0m\u001b[0;34m\u001b[0m\u001b[0m\n\u001b[0;32m--> 478\u001b[0;31m         complete, undo, status, message, tol, iteration, disp)\n\u001b[0m\u001b[1;32m    479\u001b[0m \u001b[0;34m\u001b[0m\u001b[0m\n\u001b[1;32m    480\u001b[0m     sol = {\n",
      "\u001b[0;32m~/anaconda3/lib/python3.7/site-packages/scipy/optimize/_linprog_util.py\u001b[0m in \u001b[0;36m_postprocess\u001b[0;34m(x, c, A_ub, b_ub, A_eq, b_eq, bounds, complete, undo, status, message, tol, iteration, disp)\u001b[0m\n\u001b[1;32m   1320\u001b[0m     status, message = _check_result(\n\u001b[1;32m   1321\u001b[0m         \u001b[0mx\u001b[0m\u001b[0;34m,\u001b[0m \u001b[0mfun\u001b[0m\u001b[0;34m,\u001b[0m \u001b[0mstatus\u001b[0m\u001b[0;34m,\u001b[0m \u001b[0mslack\u001b[0m\u001b[0;34m,\u001b[0m \u001b[0mcon\u001b[0m\u001b[0;34m,\u001b[0m\u001b[0;34m\u001b[0m\u001b[0;34m\u001b[0m\u001b[0m\n\u001b[0;32m-> 1322\u001b[0;31m         \u001b[0mlb\u001b[0m\u001b[0;34m,\u001b[0m \u001b[0mub\u001b[0m\u001b[0;34m,\u001b[0m \u001b[0mtol\u001b[0m\u001b[0;34m,\u001b[0m \u001b[0mmessage\u001b[0m\u001b[0;34m\u001b[0m\u001b[0;34m\u001b[0m\u001b[0m\n\u001b[0m\u001b[1;32m   1323\u001b[0m     )\n\u001b[1;32m   1324\u001b[0m \u001b[0;34m\u001b[0m\u001b[0m\n",
      "\u001b[0;32m~/anaconda3/lib/python3.7/site-packages/scipy/optimize/_linprog_util.py\u001b[0m in \u001b[0;36m_check_result\u001b[0;34m(x, fun, status, slack, con, lb, ub, tol, message)\u001b[0m\n\u001b[1;32m   1233\u001b[0m         \u001b[0;31m# nearly basic feasible solution. Postsolving can make the solution\u001b[0m\u001b[0;34m\u001b[0m\u001b[0;34m\u001b[0m\u001b[0;34m\u001b[0m\u001b[0m\n\u001b[1;32m   1234\u001b[0m         \u001b[0;31m#basic, however, this solution is NOT optimal\u001b[0m\u001b[0;34m\u001b[0m\u001b[0;34m\u001b[0m\u001b[0;34m\u001b[0m\u001b[0m\n\u001b[0;32m-> 1235\u001b[0;31m         \u001b[0;32mraise\u001b[0m \u001b[0mValueError\u001b[0m\u001b[0;34m(\u001b[0m\u001b[0mmessage\u001b[0m\u001b[0;34m)\u001b[0m\u001b[0;34m\u001b[0m\u001b[0;34m\u001b[0m\u001b[0m\n\u001b[0m\u001b[1;32m   1236\u001b[0m \u001b[0;34m\u001b[0m\u001b[0m\n\u001b[1;32m   1237\u001b[0m     \u001b[0;32mreturn\u001b[0m \u001b[0mstatus\u001b[0m\u001b[0;34m,\u001b[0m \u001b[0mmessage\u001b[0m\u001b[0;34m\u001b[0m\u001b[0;34m\u001b[0m\u001b[0m\n",
      "\u001b[0;31mValueError\u001b[0m: Phase 1 of the simplex method failed to find a feasible solution. The pseudo-objective function evaluates to 3.3e-10 which exceeds the required tolerance of 1e-12 for a solution to be considered 'close enough' to zero to be a basic solution. Consider increasing the tolerance to be greater than 3.3e-10. If this tolerance is unacceptably  large the problem may be infeasible."
     ]
    }
   ],
   "source": [
    "from scipy.optimize import linprog\n",
    "z = [-50,-40]\n",
    "lhs = [[10000,15000],[180000,120000]]\n",
    "rhs = [300000,4800000]\n",
    "x1_bounds = (0,None)\n",
    "x2_bounds = (0,None)\n",
    "method = 'simplex'\n",
    "res = linprog(c=z, A_ub=lhs, b_ub=rhs,  bounds=(x1_bounds,x2_bounds))\n",
    "print('Scipy Optimize Optimal Value:', -res.fun,'\\n x, y: ', res.x)"
   ]
  },
  {
   "cell_type": "code",
   "execution_count": 53,
   "metadata": {},
   "outputs": [
    {
     "name": "stdout",
     "output_type": "stream",
     "text": [
      "Pulp Solution for y1,y2: \n",
      "8.0\n",
      "0.0\n",
      "160.0\n"
     ]
    }
   ],
   "source": [
    "from pulp import LpVariable, LpProblem, LpMaximize, LpStatus, value, LpMinimize\n",
    "\n",
    "# declare your variables\n",
    "y1 = LpVariable(\"y1\", 0, None) # x1>=0\n",
    "y2 = LpVariable(\"y2\", 0, None) # x2>=0\n",
    "\n",
    "# defines the problem\n",
    "prob = LpProblem(\"problem\", LpMinimize)\n",
    "\n",
    "# defines the constraints\n",
    "prob += 300*y1 + 120*y2 >= 1200\n",
    "prob += 4*y1 + 4*y2 >= 28\n",
    "prob += 10*y1 + 20*y2 >= 80\n",
    "\n",
    "# defines the objective function to maximize\n",
    "prob += 20*y1 + 60*y2\n",
    "\n",
    "# solve the problem\n",
    "status = prob.solve()\n",
    "LpStatus[status]\n",
    "\n",
    "# print the results\n",
    "print(\"Pulp Solution for y1,y2: \")\n",
    "print(value(y1))\n",
    "print(value(y2))\n",
    "print(20*value(y1)+60*value(y2))"
   ]
  },
  {
   "cell_type": "code",
   "execution_count": null,
   "metadata": {},
   "outputs": [],
   "source": []
  }
 ],
 "metadata": {
  "kernelspec": {
   "display_name": "Python 3",
   "language": "python",
   "name": "python3"
  },
  "language_info": {
   "codemirror_mode": {
    "name": "ipython",
    "version": 3
   },
   "file_extension": ".py",
   "mimetype": "text/x-python",
   "name": "python",
   "nbconvert_exporter": "python",
   "pygments_lexer": "ipython3",
   "version": "3.7.3"
  }
 },
 "nbformat": 4,
 "nbformat_minor": 2
}
